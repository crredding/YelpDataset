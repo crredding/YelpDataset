{
 "cells": [
  {
   "cell_type": "markdown",
   "id": "75865708-751d-4351-8bca-f3e37a2b9a4d",
   "metadata": {},
   "source": [
    "# Restaurant Recommender\n",
    "The goal of this project is to generate a restaurant recommender for users. The initial approach is to use unsupervised learnings methods to vectorize restaurants, with similar restaurants having similar space. This may be visualized through PCA. \n",
    "\n",
    "The restaurant vectors will come from the reviews of the various restaurants.\n",
    "\n",
    "A user's feeling about a given restaurant will be taken from either A) their star rating, or B) sentiment analysis from their reviews. I will start with A given its simplicity, however with the caveat that not all 5-star reviews are alike (e.g. I could rate something 5-stars, but not necessarily want to go to a similar place again for various reasons).\n",
    "\n",
    "**Customer/Use Case:** Potential user would be Yelp in order to increase user value of the platform, thereby improving customer aquisition, usage, and retention.\n",
    "\n",
    "**Approach:** \n",
    "1) Data curation and EDA (accomplished in sperate notebooks)\n",
    "2) Data cleaning\n",
    "    * Reducing feature and data scope (**Initially PA only**)\n",
    "    * We would likely only want to categorize restaurants that have a certain number of reviews in order to avoid noisy data.\n",
    "3) Review aggregation and cutoff selection\n",
    "\n",
    "    * All review data will be combined into a single field, with an initial df something like this:\n",
    "| RestaurantId | RestaurantName | AllCombinedReviews |\n",
    "| ------------ | -------------- | ------------------ |\n",
    "| abcde...     | John's Place   | loved it was good, etc. | \n",
    "\n",
    "5) Featurize the review data\n",
    "    * Review data will be features using **tf-idf**, but additional embeddings could be used as time permits.\n",
    "    * Dimensionality reduction will be performed via non-negative matrix factorization\n",
    "      * This will output a reduced feature set for the restaurants. Initial feature set will be 40, but could be tuned as time permits.\n",
    "      * Matrix W will contain cluster centroids. Matrix H will contain cluster membership indicators\n",
    "6)  Budilding out recommender\n",
    "    * **Initial POC** using the business_id from a user's 5-star review, calculate a similiarity score to the other restaurants, and return three restaurants with the highest similarity that do not have the name name (in order to avoid recommended a different Starbucks to someone who likes Starbucks).\n",
    "    * Could test with various similarity scores to see what works best.\n",
    "7) Evaluate recommender\n",
    "   * Evaluation will likely be a manual review given the unsupervised nature of the model\n",
    "8) Deployment\n",
    "   * This is a stretch goal. Would be cool to host on AWS for online input"
   ]
  },
  {
   "cell_type": "code",
   "execution_count": 133,
   "id": "02340c72-7205-40be-a2ab-b674618b182e",
   "metadata": {},
   "outputs": [],
   "source": [
    "# Importing all packages including NLTK downloads as necessary\n",
    "import pandas as pd\n",
    "import numpy as np\n",
    "import matplotlib.pyplot as plt\n",
    "import matplotlib.patches as mpatches\n",
    "pd.set_option('display.max_columns', None)\n",
    "pd.set_option('display.max_rows', 100)\n",
    "plt.style.use('ggplot')\n",
    "from sklearn.feature_extraction.text import TfidfVectorizer, ENGLISH_STOP_WORDS\n",
    "from nltk import word_tokenize\n",
    "from nltk.stem import WordNetLemmatizer\n",
    "import nltk.corpus\n",
    "import string\n",
    "from sklearn.decomposition import NMF\n",
    "from sklearn.metrics.pairwise import cosine_similarity \n",
    "from collections import defaultdict\n",
    "from tabulate import tabulate\n",
    "import umap.umap_ as umap\n",
    "from bokeh.palettes import viridis, Category20\n",
    "first_run = False\n",
    "if first_run:\n",
    "    nltk.download('stopwords')\n",
    "    nltk.download('punkt')\n",
    "    nltk.download('wordnet')\n",
    "import dataprep"
   ]
  },
  {
   "cell_type": "markdown",
   "id": "565e18b7-4fea-46b4-99e6-faff24b0936d",
   "metadata": {},
   "source": [
    "## Importing and cleaning data"
   ]
  },
  {
   "cell_type": "code",
   "execution_count": 2,
   "id": "9bc0f0fe-dcce-4f81-a12d-e897a16e999c",
   "metadata": {},
   "outputs": [],
   "source": [
    "data_import = True\n",
    "if data_import:\n",
    "    business = pd.read_csv(\"yelp_dataset/yelp_academic_dataset_business.csv\", low_memory=False)\n",
    "    reviews = pd.read_csv(\"yelp_dataset/yelp_academic_dataset_review.csv\")"
   ]
  },
  {
   "cell_type": "markdown",
   "id": "b6b5d88c-4540-4f74-96e0-aeb097383a1c",
   "metadata": {},
   "source": [
    "### Filtering for PA restaurants only"
   ]
  },
  {
   "cell_type": "code",
   "execution_count": 3,
   "id": "8a4c9d1e-ea69-43b8-90c3-8653bd23d8db",
   "metadata": {},
   "outputs": [],
   "source": [
    "# The review cleaning function take a long time. Filtering dataset before we go further.\n",
    "clean_business = dataprep.clean_business_data(business)\n",
    "PA_business = clean_business[clean_business['state'] == 'PA']\n",
    "\n",
    "filtered_reviews = reviews[reviews['business_id'].isin(PA_business['business_id'])].copy()\n",
    "PA_reviews = dataprep.clean_review_data(filtered_reviews)"
   ]
  },
  {
   "cell_type": "code",
   "execution_count": 4,
   "id": "fac26ef3-20c0-47e1-9fbc-b5f6ae52f0ff",
   "metadata": {},
   "outputs": [
    {
     "name": "stderr",
     "output_type": "stream",
     "text": [
      "C:\\Users\\chreddin\\AppData\\Local\\Temp\\ipykernel_41652\\3235727762.py:2: SettingWithCopyWarning: \n",
      "A value is trying to be set on a copy of a slice from a DataFrame.\n",
      "Try using .loc[row_indexer,col_indexer] = value instead\n",
      "\n",
      "See the caveats in the documentation: https://pandas.pydata.org/pandas-docs/stable/user_guide/indexing.html#returning-a-view-versus-a-copy\n",
      "  PA_business['is_restaurant'] = PA_business.apply(lambda row: row['category_split'].count('restaurants') > 0,\n"
     ]
    }
   ],
   "source": [
    "# Filtering for only restaurants and slicing out only the columns that we may need going forward\n",
    "PA_business['is_restaurant'] = PA_business.apply(lambda row: row['category_split'].count('restaurants') > 0, \n",
    "                                                 axis=1)\n",
    "PA_restaurant = PA_business[PA_business['is_restaurant'] == True].reset_index(drop=True)[['business_id', 'name']]\n",
    "PA_reviews = PA_reviews[['user_id', 'business_id', 'text', 'stars']]"
   ]
  },
  {
   "cell_type": "markdown",
   "id": "5c8fd572-d75f-4a0c-92b8-4aaeac447396",
   "metadata": {},
   "source": [
    "**Note:** Another way to evaluate this is to look at star rating for various businesses that users have been to. For example, hold out a set of 5 star reviews for usersand see if my analysis would have predicted that they would have liked the place I recommended based on previous places that they liked. This could be a stretch goal, but a very cool way to validate the model."
   ]
  },
  {
   "cell_type": "markdown",
   "id": "de976d8c-4424-4510-a089-c637598242bb",
   "metadata": {},
   "source": [
    "## Joining datasets"
   ]
  },
  {
   "cell_type": "code",
   "execution_count": 5,
   "id": "60d88a33-c93e-4cc5-b075-bb33582c5919",
   "metadata": {},
   "outputs": [],
   "source": [
    "PA_data = PA_restaurant.merge(PA_reviews, how='inner', on='business_id', validate='one_to_many')"
   ]
  },
  {
   "cell_type": "code",
   "execution_count": 6,
   "id": "e661c5fa-149c-4455-8c01-accadb1cffd5",
   "metadata": {},
   "outputs": [],
   "source": [
    "# Generating a DataFrame with one row per business with all reviews aggregated into one column\n",
    "PA_combined = PA_data.groupby('business_id', as_index=False).agg({'text':[' '.join, 'count'],\n",
    "                                                                  'name': pd.Series.mode})\n",
    "PA_combined.columns = ['business_id', 'reviews', 'num_reviews', 'name']"
   ]
  },
  {
   "cell_type": "code",
   "execution_count": 7,
   "id": "1e30b86c-1cf3-4d9e-bf4b-a84da5f50d73",
   "metadata": {},
   "outputs": [],
   "source": [
    "# filtering for businesses that have > min_reviews in order to avoid noisy data.\n",
    "min_reviews = 5\n",
    "PA_combined_filtered = PA_combined[PA_combined['num_reviews'] >= min_reviews].reset_index(drop=True)[['business_id', 'reviews', 'name']]"
   ]
  },
  {
   "cell_type": "code",
   "execution_count": 8,
   "id": "454addca-0e64-421a-a36b-dfab86fc95b0",
   "metadata": {},
   "outputs": [
    {
     "data": {
      "text/html": [
       "<div>\n",
       "<style scoped>\n",
       "    .dataframe tbody tr th:only-of-type {\n",
       "        vertical-align: middle;\n",
       "    }\n",
       "\n",
       "    .dataframe tbody tr th {\n",
       "        vertical-align: top;\n",
       "    }\n",
       "\n",
       "    .dataframe thead th {\n",
       "        text-align: right;\n",
       "    }\n",
       "</style>\n",
       "<table border=\"1\" class=\"dataframe\">\n",
       "  <thead>\n",
       "    <tr style=\"text-align: right;\">\n",
       "      <th></th>\n",
       "      <th>business_id</th>\n",
       "      <th>reviews</th>\n",
       "      <th>name</th>\n",
       "    </tr>\n",
       "  </thead>\n",
       "  <tbody>\n",
       "    <tr>\n",
       "      <th>0</th>\n",
       "      <td>--ZVrH2X2QXBFdCilbirsw</td>\n",
       "      <td>this place is sadly perm closed i was hoping n...</td>\n",
       "      <td>chriss sandwich shop</td>\n",
       "    </tr>\n",
       "    <tr>\n",
       "      <th>1</th>\n",
       "      <td>--epgcb7xHGuJ-4PUeSLAw</td>\n",
       "      <td>love their asiago roll that and a cup of coffe...</td>\n",
       "      <td>manhattan bagel</td>\n",
       "    </tr>\n",
       "    <tr>\n",
       "      <th>2</th>\n",
       "      <td>-0FX23yAacC4bbLaGPvyxw</td>\n",
       "      <td>it was our first visit to the restaurant under...</td>\n",
       "      <td>the grey stone fine food and spirits</td>\n",
       "    </tr>\n",
       "    <tr>\n",
       "      <th>3</th>\n",
       "      <td>-0M0b-XhtFagyLmsBtOe8w</td>\n",
       "      <td>review of paris flea market accidentally poppe...</td>\n",
       "      <td>paris wine bar</td>\n",
       "    </tr>\n",
       "    <tr>\n",
       "      <th>4</th>\n",
       "      <td>-0PN_KFPtbnLQZEeb23XiA</td>\n",
       "      <td>while there didnt seem to be anything wrong wi...</td>\n",
       "      <td>mr wongs chinese restaurant</td>\n",
       "    </tr>\n",
       "  </tbody>\n",
       "</table>\n",
       "</div>"
      ],
      "text/plain": [
       "              business_id                                            reviews  \\\n",
       "0  --ZVrH2X2QXBFdCilbirsw  this place is sadly perm closed i was hoping n...   \n",
       "1  --epgcb7xHGuJ-4PUeSLAw  love their asiago roll that and a cup of coffe...   \n",
       "2  -0FX23yAacC4bbLaGPvyxw  it was our first visit to the restaurant under...   \n",
       "3  -0M0b-XhtFagyLmsBtOe8w  review of paris flea market accidentally poppe...   \n",
       "4  -0PN_KFPtbnLQZEeb23XiA  while there didnt seem to be anything wrong wi...   \n",
       "\n",
       "                                   name  \n",
       "0                  chriss sandwich shop  \n",
       "1                       manhattan bagel  \n",
       "2  the grey stone fine food and spirits  \n",
       "3                        paris wine bar  \n",
       "4           mr wongs chinese restaurant  "
      ]
     },
     "execution_count": 8,
     "metadata": {},
     "output_type": "execute_result"
    }
   ],
   "source": [
    "PA_combined_filtered.head()"
   ]
  },
  {
   "cell_type": "markdown",
   "id": "7c06f068-2f63-44ab-9874-95216faef6c3",
   "metadata": {},
   "source": [
    "## Getting embeddings from tf-idf for featurization"
   ]
  },
  {
   "cell_type": "code",
   "execution_count": 9,
   "id": "e0c9c612-554e-4853-bb7a-98db99b5ec99",
   "metadata": {},
   "outputs": [],
   "source": [
    "# Identifying stopwords from multiple sources\n",
    "my_stopwords = ['review']\n",
    "nltk_stop_words = list(nltk.corpus.stopwords.words('english'))\n",
    "nltk_stop_words = [word.translate(str.maketrans('', '', string.punctuation)) for word in nltk_stop_words]\n",
    "stopwords = list(set(list(ENGLISH_STOP_WORDS) + my_stopwords + nltk_stop_words))"
   ]
  },
  {
   "cell_type": "code",
   "execution_count": 10,
   "id": "afd5836f-7b12-4d4b-9eaf-af9144223c83",
   "metadata": {},
   "outputs": [],
   "source": [
    "# Lemmatizing words\n",
    "class LemmaTokenizer(object):\n",
    "    def __init__(self):\n",
    "        self.wnl = WordNetLemmatizer()\n",
    "    def __call__(self, doc):\n",
    "        return [self.wnl.lemmatize(t) for t in word_tokenize(doc)]\n",
    "        \n",
    "tf = TfidfVectorizer(strip_accents='unicode',\n",
    "                     tokenizer=LemmaTokenizer(),\n",
    "                     stop_words=stopwords,\n",
    "                     max_features=500) # Setting at 500 for POC. Could be tuned further"
   ]
  },
  {
   "cell_type": "code",
   "execution_count": 11,
   "id": "61e3ef23-aea7-4f7f-9dfe-4e1cd99500e1",
   "metadata": {},
   "outputs": [],
   "source": [
    "# Could use train/test split to calculate reconstruction errors using k-fold cross validation"
   ]
  },
  {
   "cell_type": "code",
   "execution_count": 12,
   "id": "086ffe63-2be7-46db-9a59-d2cb763fd4a1",
   "metadata": {},
   "outputs": [],
   "source": [
    "# X_train, X_test , y_train, y_test = train_test_split(PA_data['text'].values,\n",
    "#                                                      PA_data['is_restaurant'].values, \n",
    "#                                                      test_size=0.25, \n",
    "#                                                      random_state=43)"
   ]
  },
  {
   "cell_type": "code",
   "execution_count": 13,
   "id": "aa1c313b-0be8-4ebd-8473-6af7ffa5b933",
   "metadata": {},
   "outputs": [
    {
     "name": "stderr",
     "output_type": "stream",
     "text": [
      "C:\\Users\\chreddin\\AppData\\Local\\anaconda3\\envs\\py312\\Lib\\site-packages\\sklearn\\feature_extraction\\text.py:525: UserWarning: The parameter 'token_pattern' will not be used since 'tokenizer' is not None'\n",
      "  warnings.warn(\n",
      "C:\\Users\\chreddin\\AppData\\Local\\anaconda3\\envs\\py312\\Lib\\site-packages\\sklearn\\feature_extraction\\text.py:408: UserWarning: Your stop_words may be inconsistent with your preprocessing. Tokenizing the stop words generated tokens ['doe', 'ha', 'le', 'u', 'wa'] not in stop_words.\n",
      "  warnings.warn(\n"
     ]
    }
   ],
   "source": [
    "# Could use n-grams here\n",
    "tfidf = tf.fit_transform(PA_combined_filtered['reviews'].values) #ngram_range=(1, 2)) #Including uni and bi-grams"
   ]
  },
  {
   "cell_type": "code",
   "execution_count": 14,
   "id": "08c531f9-db86-4d3b-b880-305d5c5b3585",
   "metadata": {},
   "outputs": [
    {
     "data": {
      "text/plain": [
       "(12641, 500)"
      ]
     },
     "execution_count": 14,
     "metadata": {},
     "output_type": "execute_result"
    }
   ],
   "source": [
    "tfidf.shape"
   ]
  },
  {
   "cell_type": "code",
   "execution_count": 15,
   "id": "b34655ac-b427-4975-94c4-2215070f0796",
   "metadata": {},
   "outputs": [],
   "source": [
    "words = tf.get_feature_names_out()"
   ]
  },
  {
   "cell_type": "markdown",
   "id": "4ee78680-1712-47e9-b586-33a934fd908c",
   "metadata": {},
   "source": [
    "## Fitting NMF "
   ]
  },
  {
   "cell_type": "code",
   "execution_count": 101,
   "id": "638f574b-c634-412c-be3c-5b44b5dac048",
   "metadata": {},
   "outputs": [],
   "source": [
    "num_components = 20\n",
    "nmf = NMF(n_components=num_components, max_iter=600) # n_components is being set arbitrarily but could be tuned as time permits\n",
    "nmf.fit(tfidf)\n",
    "\n",
    "H = nmf.components_\n",
    "W = nmf.transform(tfidf)"
   ]
  },
  {
   "cell_type": "markdown",
   "id": "9c9f48cf-d62e-4a63-9be6-b2576965c43d",
   "metadata": {},
   "source": [
    "Above, we selected n_components arbitrarily, but we could have trained a number of models and plotted the \"coherence score\" for each output topic in the model. The gensim library provides for doing this.\n",
    "\n",
    "It would output a coherence score for each number of n_components which could be plotted as such:\n",
    "\n",
    "![image](Images/coherence_score.png)\n",
    "\n",
    "Local minima (red dashed lines) would be good targets for n_components candidates after testing.\n",
    "\n",
    "Additional information can be found here: [https://radimrehurek.com/gensim/models/coherencemodel.html](https://radimrehurek.com/gensim/models/coherencemodel.html)\n",
    "\n"
   ]
  },
  {
   "cell_type": "code",
   "execution_count": 163,
   "id": "02a71233-addf-42de-9725-ad02082db1da",
   "metadata": {},
   "outputs": [
    {
     "name": "stdout",
     "output_type": "stream",
     "text": [
      "(20, 500)\n",
      "(12641, 20)\n"
     ]
    }
   ],
   "source": [
    "print(H.shape)\n",
    "print(W.shape)"
   ]
  },
  {
   "cell_type": "markdown",
   "id": "baeba8e9-6923-48dd-9df4-c770da98f350",
   "metadata": {},
   "source": [
    "### Examining NMF latent features"
   ]
  },
  {
   "cell_type": "code",
   "execution_count": 104,
   "id": "ae3c0d0f-ed3d-4059-85a4-c465b122b8d4",
   "metadata": {},
   "outputs": [
    {
     "name": "stdout",
     "output_type": "stream",
     "text": [
      "0 ['wa' 'u' 'came' 'table' 'ordered' 'server' 'restaurant' 'service' 'got'\n",
      " 'waitress']\n",
      "1 ['pizza' 'wa' 'crust' 'delivery' 'slice' 'pie' 'place' 'good' 'order'\n",
      " 'cheese']\n",
      "2 ['coffee' 'cafe' 'place' 'shop' 'great' 'good' 'tea' 'drink' 'wa'\n",
      " 'friendly']\n",
      "3 ['chinese' 'food' 'rice' 'place' 'chicken' 'dumpling' 'wa' 'good' 'soup'\n",
      " 'fried']\n",
      "4 ['sushi' 'roll' 'tuna' 'wa' 'place' 'good' 'fresh' 'salmon' 'fish' 'spicy']\n",
      "5 ['bar' 'beer' 'bartender' 'place' 'drink' 'great' 'good' 'food' 'night'\n",
      " 'selection']\n",
      "6 ['taco' 'mexican' 'burrito' 'food' 'wa' 'chip' 'place' 'good' 'authentic'\n",
      " 'margarita']\n",
      "7 ['order' 'food' 'wa' 'time' 'location' 'customer' 'service' 'minute'\n",
      " 'employee' 'like']\n",
      "8 ['sandwich' 'wa' 'salad' 'bread' 'lunch' 'good' 'fresh' 'place' 'great'\n",
      " 'meat']\n",
      "9 ['breakfast' 'food' 'diner' 'egg' 'place' 'toast' 'pancake' 'good' 'great'\n",
      " 'bacon']\n",
      "10 ['burger' 'fry' 'food' 'good' 'wa' 'bun' 'place' 'bacon' 'onion' 'cheese']\n",
      "11 ['indian' 'food' 'wa' 'chicken' 'curry' 'place' 'lamb' 'rice' 'good'\n",
      " 'restaurant']\n",
      "12 ['chicken' 'wing' 'wa' 'food' 'bbq' 'mac' 'good' 'sauce' 'fried' 'rib']\n",
      "13 ['bagel' 'cheese' 'cream' 'breakfast' 'wa' 'egg' 'sandwich' 'donut'\n",
      " 'order' 'coffee']\n",
      "14 ['pho' 'noodle' 'wa' 'place' 'pork' 'bowl' 'roll' 'good' 'beef' 'rice']\n",
      "15 ['cake' 'cream' 'ice' 'wa' 'chocolate' 'donut' 'place' 'like' 'good'\n",
      " 'flavor']\n",
      "16 ['cheesesteak' 'steak' 'cheese' 'wa' 'fry' 'philly' 'place' 'good' 'meat'\n",
      " 'roll']\n",
      "17 ['thai' 'curry' 'noodle' 'wa' 'food' 'soup' 'dish' 'rice' 'spicy'\n",
      " 'dumpling']\n",
      "18 ['food' 'great' 'restaurant' 'good' 'salad' 'place' 'dish' 'pasta'\n",
      " 'delicious' 'italian']\n",
      "19 ['crab' 'seafood' 'shrimp' 'cake' 'lobster' 'fish' 'good' 'fried' 'wa'\n",
      " 'platter']\n"
     ]
    }
   ],
   "source": [
    "# Examining the top words for each latent feature\n",
    "top_words_index = np.argsort(-H)[:,0:10]\n",
    "most_common_words_per_topic = np.array(words)[top_words_index]\n",
    "for i, items in enumerate(most_common_words_per_topic):\n",
    "    print(i, items)"
   ]
  },
  {
   "cell_type": "markdown",
   "id": "57ca8969-d34d-4287-b637-a00ba629e4b1",
   "metadata": {},
   "source": [
    "In looking through the above features, it appears that most of the features have clear categories (e.g. #1 is Pizza, #6 is mexican, #19 is seafood, etc.). Most of the features have captured cuisine which makes sense as this is the most significant restaurant differentiator as opposed to service quality or location."
   ]
  },
  {
   "cell_type": "code",
   "execution_count": 134,
   "id": "e795059f-4b0c-4e38-9c60-db712cc5e5e6",
   "metadata": {},
   "outputs": [],
   "source": [
    "# Plotting the latent features after dimensionality reduction.\n",
    "umap_embr = umap.UMAP(n_neighbors=10, metric='cosine', min_dist=0.1)#, random_state=42)\n",
    "embedding = umap_embr.fit_transform(tfidf)\n",
    "embedding = pd.DataFrame(embedding, columns=['x','y'])\n",
    "centroids = umap_embr.transform(nmf.components_)\n",
    "embedding['hue'] = W.argmax(axis=1)"
   ]
  },
  {
   "cell_type": "code",
   "execution_count": 165,
   "id": "2fe1c042-4201-4b32-a942-a7cffe1825c6",
   "metadata": {},
   "outputs": [
    {
     "data": {
      "image/png": "[encoded data removed]",
      "text/plain": [
       "<Figure size 900x900 with 1 Axes>"
      ]
     },
     "metadata": {},
     "output_type": "display_data"
    }
   ],
   "source": [
    "fig, ax = plt.subplots(figsize=(9, 9))\n",
    "legend_list = []\n",
    "if num_components <= 20:\n",
    "    my_colors = [Category20[num_components][i] for i in embedding.hue]\n",
    "    for color in Category20[num_components]:\n",
    "        legend_list.append(mpatches.Ellipse((0, 0), 1, 1, fc=color))\n",
    "else:\n",
    "    my_colors = [viridis(num_components)[i] for i in embedding.hue]\n",
    "    for color in viridis(num_components):\n",
    "        legend_list.append(mpatches.Ellipse((0, 0), 1, 1, fc=color))\n",
    "features = ['Feature {}'.format(i) for i in range(1, num_components+1)]\n",
    "ax.scatter(embedding['x'], embedding['y'], c=my_colors, alpha=0.07)\n",
    "ax.scatter(centroids[:,0], centroids[:,1], c='black', s=100, alpha=0.7, marker='x')\n",
    "plt.suptitle('Dimensionality reduction of restaurants clustered by latent features')\n",
    "plt.subplots_adjust(top=0.8)\n",
    "fig.legend(legend_list, features, loc=(0.15,0.835), ncol=4)\n",
    "\n",
    "plt.show()"
   ]
  },
  {
   "cell_type": "markdown",
   "id": "2d88ad41-69cc-469a-989b-8d89aa77720b",
   "metadata": {},
   "source": [
    "Generally, we're seeing pretty good separation of restaurants with the selected number of latent features. There is some mix up in the middle so it could be that >20 latent features would capture more signal."
   ]
  },
  {
   "cell_type": "code",
   "execution_count": 105,
   "id": "fd8a3666-b744-4c89-986f-ce3e31b6156e",
   "metadata": {},
   "outputs": [
    {
     "name": "stdout",
     "output_type": "stream",
     "text": [
      "0 ['without a cue productions', 'wyndham alumnae house', 'yamitsuki ramen', 'yard house', 'yardley country club']\n",
      "1 ['zesty pizza', 'zio pizza palace  grill', 'zios brick oven pizzeria', 'zoe', 'zuzus kitchen']\n",
      "2 ['wawa', 'wawa food markets', 'wawa food markets', 'wired beans cafe', 'yolo']\n",
      "3 ['yummi yummi', 'yummy yummy', 'zhangs china house', 'zhi wei guan  magic kingdom of dough', 'zhous house chinese restaurant']\n",
      "4 ['zama', 'zento contemporary japanese cuisine', 'zhi izakaya', 'zushi', 'zw sushi land']\n",
      "5 ['ye olde meetinghouse tavern', 'yeats pub', 'yellobar', 'zincbar', 'zot']\n",
      "6 ['xochi modern taqueria  more', 'xochitl', 'xolo tacos', 'yosemite burrito', 'zocalo']\n",
      "7 ['wendys', 'wendys', 'wendys', 'wingstop', 'wolfs market']\n",
      "8 ['zoup', 'zoup', 'zoup', 'zoup', '¡juice']\n",
      "9 ['zakes cafe', 'zekes fifth street deli bakery', 'zinas kitchen', 'zoes cafe', 'zotos diner']\n",
      "10 ['zacs hamburgers', 'zacs hamburgers', 'zacs hamburgers', 'zacs hamburgers', 'zacs hamburgers']\n",
      "11 ['youma', 'zaika', 'zaika kabab  curry', 'zara halal food', 'zara halal food cart']\n",
      "12 ['wow wings', 'yiro yiro', 'zacharys bbq  soul', 'zig zag bbq', 'zooks bbq barn']\n",
      "13 ['wawa', 'wawa', 'wawa', 'wawa', 'yardley bagel cafe']\n",
      "14 ['vietnam house', 'vietnam palace', 'vietnam restaurant', 'yummy pho', 'yunique noodle house']\n",
      "15 ['yum yum bake shops', 'yum yum bake shops', 'yummy yummy', 'zen tea house', 'zhong gang bakery']\n",
      "16 ['wiz kid', 'wiz kid', 'woodrows sandwich shop', 'yohns grocery', 'zio gio']\n",
      "17 ['yazmin', 'yoku', 'yong hwa roo', 'zen asian bistro and bar', 'zoup']\n",
      "18 ['zorbas opa', 'zorbas taverna', 'zoubi', 'zulyka restaurant and bakery', 'àrdana food  drink']\n",
      "19 ['under the pier', 'uptown seafood', 'vintage grille', 'wans seafood', 'wild crab cajun seafood  bar']\n"
     ]
    }
   ],
   "source": [
    "# Identifying the top restaurants for each latent feature\n",
    "rest_dict = defaultdict(list)\n",
    "for index, restaurant in enumerate(W):\n",
    "    key = np.argmax(restaurant)\n",
    "    value = restaurant[key]\n",
    "    name = PA_combined_filtered['name'][index]\n",
    "    rest_dict[key].append([value, name])\n",
    "top_restaurants = defaultdict(list)\n",
    "for feature in rest_dict:\n",
    "    top_restaurants[feature] = list(np.sort(np.array(rest_dict[feature]).T)[1,-5:])\n",
    "for key, value in sorted(top_restaurants.items()):\n",
    "    print(key, value)"
   ]
  },
  {
   "cell_type": "markdown",
   "id": "d7e574c3-7eec-461a-aca8-a530b0c86eca",
   "metadata": {},
   "source": [
    "## Identifying restaurants that are the most similar to one another"
   ]
  },
  {
   "cell_type": "markdown",
   "id": "04c2ddd1-a171-40f2-8274-2919e1891e95",
   "metadata": {},
   "source": [
    "### Adding the W matrix back to the original dataset"
   ]
  },
  {
   "cell_type": "code",
   "execution_count": 108,
   "id": "efd33bf9-be64-4f19-9fa5-23d83f52fabf",
   "metadata": {},
   "outputs": [],
   "source": [
    "columns = ['feature{}'.format(n) for n in range(0, num_components)]\n",
    "W_df = pd.DataFrame(W, columns=columns)\n",
    "PA_business_features = pd.concat([PA_combined_filtered[['business_id', 'name']], W_df], axis=1)"
   ]
  },
  {
   "cell_type": "code",
   "execution_count": 109,
   "id": "9e023e88-6ebe-4811-affa-978053c3109f",
   "metadata": {},
   "outputs": [
    {
     "data": {
      "text/html": [
       "<div>\n",
       "<style scoped>\n",
       "    .dataframe tbody tr th:only-of-type {\n",
       "        vertical-align: middle;\n",
       "    }\n",
       "\n",
       "    .dataframe tbody tr th {\n",
       "        vertical-align: top;\n",
       "    }\n",
       "\n",
       "    .dataframe thead th {\n",
       "        text-align: right;\n",
       "    }\n",
       "</style>\n",
       "<table border=\"1\" class=\"dataframe\">\n",
       "  <thead>\n",
       "    <tr style=\"text-align: right;\">\n",
       "      <th></th>\n",
       "      <th>business_id</th>\n",
       "      <th>name</th>\n",
       "      <th>feature0</th>\n",
       "      <th>feature1</th>\n",
       "      <th>feature2</th>\n",
       "      <th>feature3</th>\n",
       "      <th>feature4</th>\n",
       "      <th>feature5</th>\n",
       "      <th>feature6</th>\n",
       "      <th>feature7</th>\n",
       "      <th>feature8</th>\n",
       "      <th>feature9</th>\n",
       "      <th>feature10</th>\n",
       "      <th>feature11</th>\n",
       "      <th>feature12</th>\n",
       "      <th>feature13</th>\n",
       "      <th>feature14</th>\n",
       "      <th>feature15</th>\n",
       "      <th>feature16</th>\n",
       "      <th>feature17</th>\n",
       "      <th>feature18</th>\n",
       "      <th>feature19</th>\n",
       "    </tr>\n",
       "  </thead>\n",
       "  <tbody>\n",
       "    <tr>\n",
       "      <th>0</th>\n",
       "      <td>--ZVrH2X2QXBFdCilbirsw</td>\n",
       "      <td>chriss sandwich shop</td>\n",
       "      <td>0.000000</td>\n",
       "      <td>0.019977</td>\n",
       "      <td>0.004171</td>\n",
       "      <td>0.0</td>\n",
       "      <td>0.000000</td>\n",
       "      <td>0.005324</td>\n",
       "      <td>0.0</td>\n",
       "      <td>0.005794</td>\n",
       "      <td>0.147780</td>\n",
       "      <td>0.0</td>\n",
       "      <td>0.0</td>\n",
       "      <td>0.000000</td>\n",
       "      <td>0.0</td>\n",
       "      <td>0.000000</td>\n",
       "      <td>0.0</td>\n",
       "      <td>0.009932</td>\n",
       "      <td>0.01564</td>\n",
       "      <td>0.0</td>\n",
       "      <td>0.038238</td>\n",
       "      <td>0.0</td>\n",
       "    </tr>\n",
       "    <tr>\n",
       "      <th>1</th>\n",
       "      <td>--epgcb7xHGuJ-4PUeSLAw</td>\n",
       "      <td>manhattan bagel</td>\n",
       "      <td>0.012929</td>\n",
       "      <td>0.000000</td>\n",
       "      <td>0.013732</td>\n",
       "      <td>0.0</td>\n",
       "      <td>0.002904</td>\n",
       "      <td>0.003322</td>\n",
       "      <td>0.0</td>\n",
       "      <td>0.028283</td>\n",
       "      <td>0.020484</td>\n",
       "      <td>0.0</td>\n",
       "      <td>0.0</td>\n",
       "      <td>0.000066</td>\n",
       "      <td>0.0</td>\n",
       "      <td>0.178682</td>\n",
       "      <td>0.0</td>\n",
       "      <td>0.000000</td>\n",
       "      <td>0.00000</td>\n",
       "      <td>0.0</td>\n",
       "      <td>0.003783</td>\n",
       "      <td>0.0</td>\n",
       "    </tr>\n",
       "  </tbody>\n",
       "</table>\n",
       "</div>"
      ],
      "text/plain": [
       "              business_id                  name  feature0  feature1  feature2  \\\n",
       "0  --ZVrH2X2QXBFdCilbirsw  chriss sandwich shop  0.000000  0.019977  0.004171   \n",
       "1  --epgcb7xHGuJ-4PUeSLAw       manhattan bagel  0.012929  0.000000  0.013732   \n",
       "\n",
       "   feature3  feature4  feature5  feature6  feature7  feature8  feature9  \\\n",
       "0       0.0  0.000000  0.005324       0.0  0.005794  0.147780       0.0   \n",
       "1       0.0  0.002904  0.003322       0.0  0.028283  0.020484       0.0   \n",
       "\n",
       "   feature10  feature11  feature12  feature13  feature14  feature15  \\\n",
       "0        0.0   0.000000        0.0   0.000000        0.0   0.009932   \n",
       "1        0.0   0.000066        0.0   0.178682        0.0   0.000000   \n",
       "\n",
       "   feature16  feature17  feature18  feature19  \n",
       "0    0.01564        0.0   0.038238        0.0  \n",
       "1    0.00000        0.0   0.003783        0.0  "
      ]
     },
     "execution_count": 109,
     "metadata": {},
     "output_type": "execute_result"
    }
   ],
   "source": [
    "PA_business_features.head(2)"
   ]
  },
  {
   "cell_type": "markdown",
   "id": "58331c66-c149-4c0a-849e-f67ff84279ff",
   "metadata": {},
   "source": [
    "### Calculating cosine similarity"
   ]
  },
  {
   "cell_type": "code",
   "execution_count": 110,
   "id": "2c24f24b-cac8-4e9c-b5bb-c9fc50823f4e",
   "metadata": {},
   "outputs": [],
   "source": [
    "similarity_array = cosine_similarity(PA_business_features.iloc[:,2:])\n",
    "similarity_df = pd.DataFrame(similarity_array, columns=PA_combined_filtered['business_id'])\n",
    "PA_business_similarity = pd.concat([PA_combined_filtered[['business_id', 'name']], similarity_df], axis=1)"
   ]
  },
  {
   "cell_type": "code",
   "execution_count": 111,
   "id": "1b6b201b-3993-47a1-8244-500e5ed66717",
   "metadata": {},
   "outputs": [
    {
     "data": {
      "text/plain": [
       "(12641, 12643)"
      ]
     },
     "execution_count": 111,
     "metadata": {},
     "output_type": "execute_result"
    }
   ],
   "source": [
    "PA_business_similarity.shape"
   ]
  },
  {
   "cell_type": "code",
   "execution_count": 112,
   "id": "53a5235b-97aa-43ff-9420-11e7df069922",
   "metadata": {},
   "outputs": [
    {
     "data": {
      "text/html": [
       "<div>\n",
       "<style scoped>\n",
       "    .dataframe tbody tr th:only-of-type {\n",
       "        vertical-align: middle;\n",
       "    }\n",
       "\n",
       "    .dataframe tbody tr th {\n",
       "        vertical-align: top;\n",
       "    }\n",
       "\n",
       "    .dataframe thead th {\n",
       "        text-align: right;\n",
       "    }\n",
       "</style>\n",
       "<table border=\"1\" class=\"dataframe\">\n",
       "  <thead>\n",
       "    <tr style=\"text-align: right;\">\n",
       "      <th></th>\n",
       "      <th>business_id</th>\n",
       "      <th>name</th>\n",
       "      <th>--ZVrH2X2QXBFdCilbirsw</th>\n",
       "      <th>--epgcb7xHGuJ-4PUeSLAw</th>\n",
       "      <th>-0FX23yAacC4bbLaGPvyxw</th>\n",
       "      <th>-0M0b-XhtFagyLmsBtOe8w</th>\n",
       "    </tr>\n",
       "  </thead>\n",
       "  <tbody>\n",
       "    <tr>\n",
       "      <th>0</th>\n",
       "      <td>--ZVrH2X2QXBFdCilbirsw</td>\n",
       "      <td>chriss sandwich shop</td>\n",
       "      <td>1.000000</td>\n",
       "      <td>0.119913</td>\n",
       "      <td>0.183016</td>\n",
       "      <td>0.158772</td>\n",
       "    </tr>\n",
       "    <tr>\n",
       "      <th>1</th>\n",
       "      <td>--epgcb7xHGuJ-4PUeSLAw</td>\n",
       "      <td>manhattan bagel</td>\n",
       "      <td>0.119913</td>\n",
       "      <td>1.000000</td>\n",
       "      <td>0.073895</td>\n",
       "      <td>0.057498</td>\n",
       "    </tr>\n",
       "    <tr>\n",
       "      <th>2</th>\n",
       "      <td>-0FX23yAacC4bbLaGPvyxw</td>\n",
       "      <td>the grey stone fine food and spirits</td>\n",
       "      <td>0.183016</td>\n",
       "      <td>0.073895</td>\n",
       "      <td>1.000000</td>\n",
       "      <td>0.858861</td>\n",
       "    </tr>\n",
       "    <tr>\n",
       "      <th>3</th>\n",
       "      <td>-0M0b-XhtFagyLmsBtOe8w</td>\n",
       "      <td>paris wine bar</td>\n",
       "      <td>0.158772</td>\n",
       "      <td>0.057498</td>\n",
       "      <td>0.858861</td>\n",
       "      <td>1.000000</td>\n",
       "    </tr>\n",
       "    <tr>\n",
       "      <th>4</th>\n",
       "      <td>-0PN_KFPtbnLQZEeb23XiA</td>\n",
       "      <td>mr wongs chinese restaurant</td>\n",
       "      <td>0.000000</td>\n",
       "      <td>0.000000</td>\n",
       "      <td>0.000000</td>\n",
       "      <td>0.000000</td>\n",
       "    </tr>\n",
       "  </tbody>\n",
       "</table>\n",
       "</div>"
      ],
      "text/plain": [
       "              business_id                                  name  \\\n",
       "0  --ZVrH2X2QXBFdCilbirsw                  chriss sandwich shop   \n",
       "1  --epgcb7xHGuJ-4PUeSLAw                       manhattan bagel   \n",
       "2  -0FX23yAacC4bbLaGPvyxw  the grey stone fine food and spirits   \n",
       "3  -0M0b-XhtFagyLmsBtOe8w                        paris wine bar   \n",
       "4  -0PN_KFPtbnLQZEeb23XiA           mr wongs chinese restaurant   \n",
       "\n",
       "   --ZVrH2X2QXBFdCilbirsw  --epgcb7xHGuJ-4PUeSLAw  -0FX23yAacC4bbLaGPvyxw  \\\n",
       "0                1.000000                0.119913                0.183016   \n",
       "1                0.119913                1.000000                0.073895   \n",
       "2                0.183016                0.073895                1.000000   \n",
       "3                0.158772                0.057498                0.858861   \n",
       "4                0.000000                0.000000                0.000000   \n",
       "\n",
       "   -0M0b-XhtFagyLmsBtOe8w  \n",
       "0                0.158772  \n",
       "1                0.057498  \n",
       "2                0.858861  \n",
       "3                1.000000  \n",
       "4                0.000000  "
      ]
     },
     "execution_count": 112,
     "metadata": {},
     "output_type": "execute_result"
    }
   ],
   "source": [
    "PA_business_similarity.iloc[:5,:6]"
   ]
  },
  {
   "cell_type": "markdown",
   "id": "28daa24c-ae9d-4539-a450-b88d3b06a99b",
   "metadata": {},
   "source": [
    "## Evaulating/testing on user reviews"
   ]
  },
  {
   "cell_type": "code",
   "execution_count": 171,
   "id": "d50aa92b-e764-4e57-ac97-0db94713c612",
   "metadata": {},
   "outputs": [
    {
     "data": {
      "text/html": [
       "<div>\n",
       "<style scoped>\n",
       "    .dataframe tbody tr th:only-of-type {\n",
       "        vertical-align: middle;\n",
       "    }\n",
       "\n",
       "    .dataframe tbody tr th {\n",
       "        vertical-align: top;\n",
       "    }\n",
       "\n",
       "    .dataframe thead th {\n",
       "        text-align: right;\n",
       "    }\n",
       "</style>\n",
       "<table border=\"1\" class=\"dataframe\">\n",
       "  <thead>\n",
       "    <tr style=\"text-align: right;\">\n",
       "      <th></th>\n",
       "      <th>business_id</th>\n",
       "      <th>name</th>\n",
       "      <th>user_id</th>\n",
       "      <th>text</th>\n",
       "      <th>stars</th>\n",
       "    </tr>\n",
       "  </thead>\n",
       "  <tbody>\n",
       "    <tr>\n",
       "      <th>90697</th>\n",
       "      <td>wUnLSg_GKfEIQ5CQQ770_g</td>\n",
       "      <td>vetri cucina</td>\n",
       "      <td>Iv9H9sRk2pMxizrcM_86vw</td>\n",
       "      <td>i absolutely love this restaurant offers a bea...</td>\n",
       "      <td>5.0</td>\n",
       "    </tr>\n",
       "    <tr>\n",
       "      <th>569309</th>\n",
       "      <td>4NlSpFSdeexT30ZJ_Rabxw</td>\n",
       "      <td>dinapolis italian market restaurant and catering</td>\n",
       "      <td>SfO3PS1-xTVT0T91eA87zg</td>\n",
       "      <td>my dad and i took a trip to new hope and came ...</td>\n",
       "      <td>5.0</td>\n",
       "    </tr>\n",
       "    <tr>\n",
       "      <th>491116</th>\n",
       "      <td>6M5r34Sk3mC6kCVXLYKrag</td>\n",
       "      <td>the better box</td>\n",
       "      <td>JvUPonIfl51OeVVlKZ4Fmw</td>\n",
       "      <td>excellent food love the twist on traditional f...</td>\n",
       "      <td>5.0</td>\n",
       "    </tr>\n",
       "    <tr>\n",
       "      <th>263859</th>\n",
       "      <td>e3Y3hDpwHc9RmQlJtIgHuw</td>\n",
       "      <td>lacroix restaurant at the rittenhouse</td>\n",
       "      <td>EBrBIRZSvxcDKI70uH61Wg</td>\n",
       "      <td>brunch at lacroix mind blown im not a breakfas...</td>\n",
       "      <td>5.0</td>\n",
       "    </tr>\n",
       "    <tr>\n",
       "      <th>994892</th>\n",
       "      <td>cxbHM3CdEI0FM6T-ybhl1A</td>\n",
       "      <td>mcstews irish pub</td>\n",
       "      <td>CFd994mNY5JC_2HdV4XApg</td>\n",
       "      <td>ive been coming to this establishment for quit...</td>\n",
       "      <td>5.0</td>\n",
       "    </tr>\n",
       "  </tbody>\n",
       "</table>\n",
       "</div>"
      ],
      "text/plain": [
       "                   business_id  \\\n",
       "90697   wUnLSg_GKfEIQ5CQQ770_g   \n",
       "569309  4NlSpFSdeexT30ZJ_Rabxw   \n",
       "491116  6M5r34Sk3mC6kCVXLYKrag   \n",
       "263859  e3Y3hDpwHc9RmQlJtIgHuw   \n",
       "994892  cxbHM3CdEI0FM6T-ybhl1A   \n",
       "\n",
       "                                                    name  \\\n",
       "90697                                       vetri cucina   \n",
       "569309  dinapolis italian market restaurant and catering   \n",
       "491116                                    the better box   \n",
       "263859             lacroix restaurant at the rittenhouse   \n",
       "994892                                 mcstews irish pub   \n",
       "\n",
       "                       user_id  \\\n",
       "90697   Iv9H9sRk2pMxizrcM_86vw   \n",
       "569309  SfO3PS1-xTVT0T91eA87zg   \n",
       "491116  JvUPonIfl51OeVVlKZ4Fmw   \n",
       "263859  EBrBIRZSvxcDKI70uH61Wg   \n",
       "994892  CFd994mNY5JC_2HdV4XApg   \n",
       "\n",
       "                                                     text  stars  \n",
       "90697   i absolutely love this restaurant offers a bea...    5.0  \n",
       "569309  my dad and i took a trip to new hope and came ...    5.0  \n",
       "491116  excellent food love the twist on traditional f...    5.0  \n",
       "263859  brunch at lacroix mind blown im not a breakfas...    5.0  \n",
       "994892  ive been coming to this establishment for quit...    5.0  "
      ]
     },
     "execution_count": 171,
     "metadata": {},
     "output_type": "execute_result"
    }
   ],
   "source": [
    "five_star_reviews = PA_data[PA_data['stars'] == 5]\n",
    "sample_reviews = five_star_reviews.sample(5, random_state=42)\n",
    "sample_reviews"
   ]
  },
  {
   "cell_type": "code",
   "execution_count": 172,
   "id": "15f8d070-d6c9-40cd-a693-05481cfbfe7f",
   "metadata": {},
   "outputs": [],
   "source": [
    "def top_recommendations(business_id, similarity_matrix, top_n=3, name_filter=True):\n",
    "    df = similarity_matrix[similarity_matrix['business_id'] == business_id]\n",
    "    name_mapping = similarity_matrix[['business_id', 'name']]\n",
    "    if name_filter:\n",
    "        business_ids_to_filter = name_mapping[name_mapping['name'] == df['name'].values[0]]['business_id'].values\n",
    "    else:\n",
    "        business_ids_to_filter = business_id\n",
    "    df = df.drop(business_ids_to_filter, axis=1)\n",
    "    output = df.T.iloc[2:,:].sort_values(by=df.T.columns[0], ascending=False).iloc[:top_n,:].reset_index()\n",
    "    output.columns = ['business_id', 'similarity']\n",
    "    output = output.merge(name_mapping, how='left', on='business_id')\n",
    "    return output   "
   ]
  },
  {
   "cell_type": "code",
   "execution_count": 173,
   "id": "6854587e-0887-44c1-9bb0-5194fdaadee4",
   "metadata": {},
   "outputs": [
    {
     "name": "stdout",
     "output_type": "stream",
     "text": [
      "vetri cucina\n",
      "+------------------------+--------------+--------------+\n",
      "| business_id            |   similarity | name         |\n",
      "|------------------------+--------------+--------------|\n",
      "| 5GtZaOCAZejU_z_i2MfZxw |     0.999808 | verbena byob |\n",
      "| qnprJxrjwuEivitA8V2aEQ |     0.999212 | fiorella     |\n",
      "+------------------------+--------------+--------------+\n",
      "\n",
      "dinapolis italian market restaurant and catering\n",
      "+------------------------+--------------+--------------------------+\n",
      "| business_id            |   similarity | name                     |\n",
      "|------------------------+--------------+--------------------------|\n",
      "| xVSFZ-STvN-9jUJxaPLAWA |     0.98253  | red tomato               |\n",
      "| WIicEEmnWe10TYHajblM0Q |     0.980836 | la stalla italian market |\n",
      "+------------------------+--------------+--------------------------+\n",
      "\n",
      "the better box\n",
      "+------------------------+--------------+------------------------+\n",
      "| business_id            |   similarity | name                   |\n",
      "|------------------------+--------------+------------------------|\n",
      "| u3Krpt7IdsJ26jj83uwNBQ |     0.941452 | rock n rolls egg rolls |\n",
      "| 9iF5ALxAskaBFRzqoG7SNQ |     0.934876 | bottoms up 215         |\n",
      "+------------------------+--------------+------------------------+\n",
      "\n",
      "lacroix restaurant at the rittenhouse\n",
      "+------------------------+--------------+------------------+\n",
      "| business_id            |   similarity | name             |\n",
      "|------------------------+--------------+------------------|\n",
      "| KWMdCTrepsB8YFBC8JBQsA |     0.993183 | spring mill cafe |\n",
      "| CpBuc0aSueBpTXce3fJoRQ |     0.990469 | fiore fine foods |\n",
      "+------------------------+--------------+------------------+\n",
      "\n",
      "mcstews irish pub\n",
      "+------------------------+--------------+--------------------+\n",
      "| business_id            |   similarity | name               |\n",
      "|------------------------+--------------+--------------------|\n",
      "| B7WQ7wjnkJmdXgbGs4NQtA |     0.989756 | mckinley tavern    |\n",
      "| vVfP0O7SvcBphLYQ6CFNKg |     0.987735 | tangier restaurant |\n",
      "+------------------------+--------------+--------------------+\n",
      "\n"
     ]
    }
   ],
   "source": [
    "for i in range(sample_reviews.shape[0]):\n",
    "    print(sample_reviews.iloc[i]['name'])\n",
    "    print(tabulate(top_recommendations(sample_reviews.iloc[i]['business_id'], PA_business_similarity, top_n=2, name_filter=True),\n",
    "                  showindex=False,\n",
    "                  headers='keys',\n",
    "                  tablefmt='psql'))\n",
    "    print()"
   ]
  },
  {
   "cell_type": "markdown",
   "id": "76606dc2-ff3e-402a-9bbc-4b8e14f85fe6",
   "metadata": {},
   "source": [
    "Based on a cursery review of the restaurant names above, it appears that the recommender is doing a pretty good job -- at least at finding similar cuisine."
   ]
  },
  {
   "cell_type": "markdown",
   "id": "1124506d-9497-4f09-a736-a8e0dc72a3fe",
   "metadata": {},
   "source": [
    "#### Digging into vetri cucina in particular\n",
    "\n",
    "![image](Images/VetriHeader.png)\n",
    "\n",
    "![image](Images/Vetri.png)\n",
    "\n",
    "[Yelp link](https://www.yelp.com/biz/vetri-cucina-philadelphia)\n",
    "\n",
    "\n",
    "![image](Images/VerbenaHeader.png)\n",
    "\n",
    "![image](Images/Verbena.png)\n",
    "\n",
    "[Yelp link](https://www.yelp.com/biz/verbena-byob-kennett-square)\n",
    "\n",
    "\n",
    "![image](Images/FiorellaHeader.png)\n",
    "\n",
    "![image](Images/Fiorella.png)\n",
    "\n",
    "[Yelp link](https://www.yelp.com/biz/fiorella-philadelphia-2)\n",
    "\n",
    "\n",
    "**Similarities**\n",
    "* Food generally looks similar\n",
    "* Similar reviews\n",
    "* Fine dining\n",
    "* Price range\n",
    "* Ambiance\n",
    "* 2 are Italian"
   ]
  },
  {
   "cell_type": "markdown",
   "id": "7ff446c3-d9ba-443f-bb2f-7d8e83129b70",
   "metadata": {},
   "source": [
    "## Conclusion & Future Work\n",
    "Overall, this fairly simple recommender appears to do a pretty good job recommending similar restaurants based on a manual review of the latent features and the recommendations. Before making this user facing, I would want to do futher analysis to see how the rating distribution for a given user was materially different than the ratings that they may have actually given to some of the recommended restaurants. However, if that proves not to be feasible, another use case could be to use this recommender to try and generate more reviews by asking the user if they have been to any similiar restaurants and prompting them for reviews. \n",
    "\n",
    "There are many ways that this work could be taken further:\n",
    "1) Incorporating other non-text fields (e.g. ZipCode, lat/lon for business, etc.) to see if it improves the model.\n",
    "2) Using the same features to provide the user more options (e.g. Only recommend restaurants within X kilometers from me).\n",
    "3) Expanding the data set or use case to recommend outside of the set geo (e.g. If a user is traveling)\n",
    "4) Tuning the number of latent features\n",
    "5) Featurzing with n-grams instead of only unigrams\n",
    "6) Using different word embeddings (Word2Vec)"
   ]
  },
  {
   "cell_type": "markdown",
   "id": "47ccac9f-6c79-436c-b742-14669e67007b",
   "metadata": {},
   "source": [
    "Clean prep and EDA\n",
    "Pros and Cons of each method\n",
    "#pickle and save/load functions\n",
    "NMF\n",
    "PCA method"
   ]
  },
  {
   "cell_type": "code",
   "execution_count": null,
   "id": "4606cf48-b3a4-4506-885d-348db8031e79",
   "metadata": {},
   "outputs": [],
   "source": []
  }
 ],
 "metadata": {
  "kernelspec": {
   "display_name": "Python 3 (ipykernel)",
   "language": "python",
   "name": "python3"
  },
  "language_info": {
   "codemirror_mode": {
    "name": "ipython",
    "version": 3
   },
   "file_extension": ".py",
   "mimetype": "text/x-python",
   "name": "python",
   "nbconvert_exporter": "python",
   "pygments_lexer": "ipython3",
   "version": "3.12.0"
  }
 },
 "nbformat": 4,
 "nbformat_minor": 5
}
