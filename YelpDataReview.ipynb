{
 "cells": [
  {
   "cell_type": "markdown",
   "id": "26a40d81-dfe1-48af-a7c5-d2a750a3800e",
   "metadata": {},
   "source": [
    "# Yelp data review "
   ]
  },
  {
   "cell_type": "markdown",
   "id": "d622127c-6da8-4584-9d41-af1f48373d7b",
   "metadata": {},
   "source": [
    "## Prompt\n",
    "Use the dataset below to build a model for a fictive stakeholder or user that you decide. You will present the results from what you built for myself and my colleague, wherein we will discuss around the results and the different steps. We see this as a good way for you to showcase your skills and to have a natural and practical dialogue about data science. We want you to focus on any freetext fields as main data source for the model and put in special focus around the usecase itself, explaining the results and the considerations that went in as part of the analysis. You could either choose from our example below or create your own. You set the ambition level for the assignment yourself.\n",
    "\n",
    "If you have any questions or need any input along the way, don’t hesitate to contact us.\n",
    "\n",
    "Dataset:\n",
    "- https://www.yelp.com/dataset  (Yelp review dataset) (we have looked at the license and you’re allowed to use it for this assignment)\n",
    "\n",
    "Example:\n",
    "- Predict product category using review text? Does it help to also include other fields such as tip or location."
   ]
  },
  {
   "cell_type": "markdown",
   "id": "ae87df05-ee7e-471e-a8f8-67bf58b2d8f5",
   "metadata": {},
   "source": [
    "### Planning\n",
    "#### Steps\n",
    "1) Determine the fictive stakeholer / user\n",
    "3) Create presentation\n",
    "\n",
    "#### Goals\n",
    "1) Showcase DS skills\n",
    "2) Have a natural / practical dialogue about DS\n",
    "\n",
    "#### Constraints\n",
    "1) Focus on **any** free text fields as the main data source for the model\n",
    "2) Focus on the usecase, explaining the results and considerations that went into the work"
   ]
  },
  {
   "cell_type": "markdown",
   "id": "51bf1e17-20cc-4e7a-b583-fa5eb9e45b4f",
   "metadata": {},
   "source": [
    "# Data\n",
    "* business.json:\n",
    "  * PrimaryKey: **business_id**\n",
    "  * Contains business data including location data, attributes, and categories.\n",
    "* review.json:\n",
    "  * PrimaryKey: **review_id**\n",
    "  * Contains full review text data including the user_id that wrote the review and the business_id the review is written for.\n",
    "* user.json:\n",
    "  * PrimaryKey: **user_id**\n",
    "  * User data including the user's friend mapping and all the metadata associated with the user.\n",
    "* checkin.json:\n",
    "  * PrimaryKey: **business_id**\n",
    "  * Checkins on a business.\n",
    "* tip.json:\n",
    "  * PrimaryKey: **user_id**, **business_id**, **text**, **date**\n",
    "  * Tips written by a user on a business. Tips are shorter than reviews and tend to convey quick suggestions.\n",
    "* photo.json:\n",
    "  * PrimaryKey: **photo_id**\n",
    "  * Contains photo data including the caption and classification (one of \"food\", \"drink\", \"menu\", \"inside\" or \"outside\").\n",
    " \n",
    "Currently, the metropolitan areas centered on Montreal, Calgary, Toronto, Pittsburgh, Charlotte, Urbana-Champaign, Phoenix, Las Vegas, Madison, and Cleveland, are included in the dataset.\n",
    "\n",
    "[Dataset Documentation](https://www.yelp.com/dataset/documentation/main)"
   ]
  },
  {
   "cell_type": "markdown",
   "id": "0868d9d0-7433-4547-a08c-b09cd6cc55a4",
   "metadata": {},
   "source": [
    "## Scratch ideas\n",
    "1) Remove business with <X reviews\n",
    "2) Only open businesses?\n",
    "3) Start small (e.g. only english in Charlotte)\n",
    "4) Use the text to categorize restaurants (svd visualization) and then recommend new restaurants to users based on current recommendations (or something totally different)"
   ]
  },
  {
   "cell_type": "code",
   "execution_count": 158,
   "id": "8747e394-f754-49b1-86ce-8f100f446bb2",
   "metadata": {},
   "outputs": [],
   "source": [
    "import pandas as pd\n",
    "from collections import Counter\n",
    "import matplotlib.pyplot as plt\n",
    "from shapely.geometry import Point\n",
    "import geopandas as gpd\n",
    "from geopandas import GeoDataFrame\n",
    "pd.set_option('display.max_columns', None)\n",
    "pd.set_option('display.max_rows', 20)"
   ]
  },
  {
   "cell_type": "code",
   "execution_count": 2,
   "id": "c09e976e-c995-4a12-a632-42de5d369a57",
   "metadata": {
    "collapsed": true,
    "jupyter": {
     "outputs_hidden": true
    }
   },
   "outputs": [],
   "source": [
    "first_run = False\n",
    "if first_run:\n",
    "    !python json_to_csv_converter_py3.py yelp_dataset/yelp_academic_dataset_business.json\n",
    "    !python json_to_csv_converter_py3.py yelp_dataset/yelp_academic_dataset_checkin.json\n",
    "    !python json_to_csv_converter_py3.py yelp_dataset/yelp_academic_dataset_review.json\n",
    "    !python json_to_csv_converter_py3.py yelp_dataset/yelp_academic_dataset_tip.json\n",
    "    !python json_to_csv_converter_py3.py yelp_dataset/yelp_academic_dataset_user.json"
   ]
  },
  {
   "cell_type": "code",
   "execution_count": 14,
   "id": "eec610ad-b685-4995-a54d-a42671a53e66",
   "metadata": {},
   "outputs": [
    {
     "name": "stderr",
     "output_type": "stream",
     "text": [
      "C:\\Users\\chreddin\\AppData\\Local\\Temp\\ipykernel_21468\\3827567709.py:3: DtypeWarning: Columns (21,43) have mixed types. Specify dtype option on import or set low_memory=False.\n",
      "  business = pd.read_csv(\"yelp_dataset/yelp_academic_dataset_business.csv\")\n"
     ]
    }
   ],
   "source": [
    "data_import = True\n",
    "if data_import:\n",
    "    business = pd.read_csv(\"yelp_dataset/yelp_academic_dataset_business.csv\")"
   ]
  },
  {
   "cell_type": "code",
   "execution_count": 15,
   "id": "5c810080-a731-4ade-852e-8680f9a0f4d7",
   "metadata": {
    "scrolled": true
   },
   "outputs": [
    {
     "name": "stdout",
     "output_type": "stream",
     "text": [
      "<class 'pandas.core.frame.DataFrame'>\n",
      "RangeIndex: 150346 entries, 0 to 150345\n",
      "Data columns (total 60 columns):\n",
      " #   Column                                 Non-Null Count   Dtype  \n",
      "---  ------                                 --------------   -----  \n",
      " 0   attributes.BYOB                        4439 non-null    object \n",
      " 1   hours                                  127123 non-null  object \n",
      " 2   state                                  150346 non-null  object \n",
      " 3   hours.Monday                           114474 non-null  object \n",
      " 4   attributes.ByAppointmentOnly           42299 non-null   object \n",
      " 5   name                                   150346 non-null  object \n",
      " 6   attributes.CoatCheck                   5580 non-null    object \n",
      " 7   attributes                             136602 non-null  object \n",
      " 8   attributes.WiFi                        56864 non-null   object \n",
      " 9   attributes.RestaurantsGoodForGroups    44149 non-null   object \n",
      " 10  attributes.RestaurantsTakeOut          57752 non-null   object \n",
      " 11  attributes.HappyHour                   15169 non-null   object \n",
      " 12  attributes.GoodForDancing              4628 non-null    object \n",
      " 13  attributes.BusinessAcceptsBitcoin      17427 non-null   object \n",
      " 14  longitude                              150346 non-null  float64\n",
      " 15  attributes.BusinessParking             88814 non-null   object \n",
      " 16  attributes.WheelchairAccessible        28926 non-null   object \n",
      " 17  review_count                           150346 non-null  int64  \n",
      " 18  is_open                                150346 non-null  int64  \n",
      " 19  attributes.Smoking                     4553 non-null    object \n",
      " 20  attributes.GoodForKids                 53347 non-null   object \n",
      " 21  attributes.RestaurantsCounterService   19 non-null      object \n",
      " 22  attributes.RestaurantsPriceRange2      85280 non-null   float64\n",
      " 23  address                                145219 non-null  object \n",
      " 24  hours.Sunday                           81172 non-null   object \n",
      " 25  city                                   150346 non-null  object \n",
      " 26  hours.Wednesday                        123771 non-null  object \n",
      " 27  hours.Tuesday                          120631 non-null  object \n",
      " 28  hours.Friday                           124999 non-null  object \n",
      " 29  attributes.Alcohol                     43151 non-null   object \n",
      " 30  hours.Thursday                         125198 non-null  object \n",
      " 31  attributes.AcceptsInsurance            5705 non-null    object \n",
      " 32  latitude                               150346 non-null  float64\n",
      " 33  attributes.HairSpecializesIn           1035 non-null    object \n",
      " 34  attributes.HasTV                       45065 non-null   object \n",
      " 35  attributes.NoiseLevel                  37954 non-null   object \n",
      " 36  attributes.BYOBCorkage                 1439 non-null    object \n",
      " 37  attributes.RestaurantsAttire           39217 non-null   object \n",
      " 38  categories                             150243 non-null  object \n",
      " 39  attributes.Ambience                    43728 non-null   object \n",
      " 40  attributes.BikeParking                 72558 non-null   object \n",
      " 41  attributes.BestNights                  5683 non-null    object \n",
      " 42  attributes.GoodForMeal                 28784 non-null   object \n",
      " 43  attributes.Open24Hours                 39 non-null      object \n",
      " 44  attributes.RestaurantsTableService     19967 non-null   object \n",
      " 45  attributes.RestaurantsDelivery         52334 non-null   object \n",
      " 46  attributes.Corkage                     3542 non-null    object \n",
      " 47  hours.Saturday                         110770 non-null  object \n",
      " 48  attributes.RestaurantsReservations     44959 non-null   object \n",
      " 49  attributes.OutdoorSeating              46920 non-null   object \n",
      " 50  attributes.Music                       7486 non-null    object \n",
      " 51  attributes.AgesAllowed                 129 non-null     object \n",
      " 52  attributes.BusinessAcceptsCreditCards  119692 non-null  object \n",
      " 53  stars                                  150346 non-null  float64\n",
      " 54  attributes.DietaryRestrictions         30 non-null      object \n",
      " 55  attributes.DriveThru                   7005 non-null    object \n",
      " 56  attributes.DogsAllowed                 18258 non-null   object \n",
      " 57  postal_code                            150273 non-null  object \n",
      " 58  business_id                            150346 non-null  object \n",
      " 59  attributes.Caters                      40067 non-null   object \n",
      "dtypes: float64(4), int64(2), object(54)\n",
      "memory usage: 68.8+ MB\n"
     ]
    }
   ],
   "source": [
    "business.info()"
   ]
  },
  {
   "cell_type": "code",
   "execution_count": 16,
   "id": "da1c887e-bbab-45eb-af03-fed1ebd0aab1",
   "metadata": {},
   "outputs": [
    {
     "data": {
      "text/html": [
       "<div>\n",
       "<style scoped>\n",
       "    .dataframe tbody tr th:only-of-type {\n",
       "        vertical-align: middle;\n",
       "    }\n",
       "\n",
       "    .dataframe tbody tr th {\n",
       "        vertical-align: top;\n",
       "    }\n",
       "\n",
       "    .dataframe thead th {\n",
       "        text-align: right;\n",
       "    }\n",
       "</style>\n",
       "<table border=\"1\" class=\"dataframe\">\n",
       "  <thead>\n",
       "    <tr style=\"text-align: right;\">\n",
       "      <th></th>\n",
       "      <th>longitude</th>\n",
       "      <th>review_count</th>\n",
       "      <th>is_open</th>\n",
       "      <th>attributes.RestaurantsPriceRange2</th>\n",
       "      <th>latitude</th>\n",
       "      <th>stars</th>\n",
       "    </tr>\n",
       "  </thead>\n",
       "  <tbody>\n",
       "    <tr>\n",
       "      <th>count</th>\n",
       "      <td>150346.000000</td>\n",
       "      <td>150346.000000</td>\n",
       "      <td>150346.00000</td>\n",
       "      <td>85280.000000</td>\n",
       "      <td>150346.000000</td>\n",
       "      <td>150346.000000</td>\n",
       "    </tr>\n",
       "    <tr>\n",
       "      <th>mean</th>\n",
       "      <td>-89.357339</td>\n",
       "      <td>44.866561</td>\n",
       "      <td>0.79615</td>\n",
       "      <td>1.767953</td>\n",
       "      <td>36.671150</td>\n",
       "      <td>3.596724</td>\n",
       "    </tr>\n",
       "    <tr>\n",
       "      <th>std</th>\n",
       "      <td>14.918502</td>\n",
       "      <td>121.120136</td>\n",
       "      <td>0.40286</td>\n",
       "      <td>0.646859</td>\n",
       "      <td>5.872759</td>\n",
       "      <td>0.974421</td>\n",
       "    </tr>\n",
       "    <tr>\n",
       "      <th>min</th>\n",
       "      <td>-120.095137</td>\n",
       "      <td>5.000000</td>\n",
       "      <td>0.00000</td>\n",
       "      <td>1.000000</td>\n",
       "      <td>27.555127</td>\n",
       "      <td>1.000000</td>\n",
       "    </tr>\n",
       "    <tr>\n",
       "      <th>25%</th>\n",
       "      <td>-90.357810</td>\n",
       "      <td>8.000000</td>\n",
       "      <td>1.00000</td>\n",
       "      <td>1.000000</td>\n",
       "      <td>32.187293</td>\n",
       "      <td>3.000000</td>\n",
       "    </tr>\n",
       "    <tr>\n",
       "      <th>50%</th>\n",
       "      <td>-86.121179</td>\n",
       "      <td>15.000000</td>\n",
       "      <td>1.00000</td>\n",
       "      <td>2.000000</td>\n",
       "      <td>38.777413</td>\n",
       "      <td>3.500000</td>\n",
       "    </tr>\n",
       "    <tr>\n",
       "      <th>75%</th>\n",
       "      <td>-75.421542</td>\n",
       "      <td>37.000000</td>\n",
       "      <td>1.00000</td>\n",
       "      <td>2.000000</td>\n",
       "      <td>39.954036</td>\n",
       "      <td>4.500000</td>\n",
       "    </tr>\n",
       "    <tr>\n",
       "      <th>max</th>\n",
       "      <td>-73.200457</td>\n",
       "      <td>7568.000000</td>\n",
       "      <td>1.00000</td>\n",
       "      <td>4.000000</td>\n",
       "      <td>53.679197</td>\n",
       "      <td>5.000000</td>\n",
       "    </tr>\n",
       "  </tbody>\n",
       "</table>\n",
       "</div>"
      ],
      "text/plain": [
       "           longitude   review_count       is_open  \\\n",
       "count  150346.000000  150346.000000  150346.00000   \n",
       "mean      -89.357339      44.866561       0.79615   \n",
       "std        14.918502     121.120136       0.40286   \n",
       "min      -120.095137       5.000000       0.00000   \n",
       "25%       -90.357810       8.000000       1.00000   \n",
       "50%       -86.121179      15.000000       1.00000   \n",
       "75%       -75.421542      37.000000       1.00000   \n",
       "max       -73.200457    7568.000000       1.00000   \n",
       "\n",
       "       attributes.RestaurantsPriceRange2       latitude          stars  \n",
       "count                       85280.000000  150346.000000  150346.000000  \n",
       "mean                            1.767953      36.671150       3.596724  \n",
       "std                             0.646859       5.872759       0.974421  \n",
       "min                             1.000000      27.555127       1.000000  \n",
       "25%                             1.000000      32.187293       3.000000  \n",
       "50%                             2.000000      38.777413       3.500000  \n",
       "75%                             2.000000      39.954036       4.500000  \n",
       "max                             4.000000      53.679197       5.000000  "
      ]
     },
     "execution_count": 16,
     "metadata": {},
     "output_type": "execute_result"
    }
   ],
   "source": [
    "business.describe()"
   ]
  },
  {
   "cell_type": "code",
   "execution_count": 26,
   "id": "e283522f-2d7b-49c8-b3d5-337592037476",
   "metadata": {},
   "outputs": [
    {
     "data": {
      "text/plain": [
       "state\n",
       "PA     34039\n",
       "FL     26330\n",
       "TN     12056\n",
       "IN     11247\n",
       "MO     10913\n",
       "LA      9924\n",
       "AZ      9912\n",
       "NJ      8536\n",
       "NV      7715\n",
       "AB      5573\n",
       "CA      5203\n",
       "ID      4467\n",
       "DE      2265\n",
       "IL      2145\n",
       "TX         4\n",
       "CO         3\n",
       "WA         2\n",
       "HI         2\n",
       "MA         2\n",
       "NC         1\n",
       "UT         1\n",
       "MT         1\n",
       "MI         1\n",
       "SD         1\n",
       "XMS        1\n",
       "VI         1\n",
       "VT         1\n",
       "Name: count, dtype: int64"
      ]
     },
     "execution_count": 26,
     "metadata": {},
     "output_type": "execute_result"
    }
   ],
   "source": [
    "#where are the businesses\n",
    "business['state'].value_counts()"
   ]
  },
  {
   "cell_type": "code",
   "execution_count": 25,
   "id": "65f460da-f633-45eb-b5b6-25e49fd56de1",
   "metadata": {
    "scrolled": true
   },
   "outputs": [
    {
     "data": {
      "text/plain": [
       "name\n",
       "McDonald's        691\n",
       "Starbucks         618\n",
       "Dunkin'           482\n",
       "Subway            446\n",
       "Taco Bell         349\n",
       "Wendy's           325\n",
       "Burger King       322\n",
       "Walgreens         310\n",
       "CVS Pharmacy      304\n",
       "Domino's Pizza    289\n",
       "Name: count, dtype: int64"
      ]
     },
     "execution_count": 25,
     "metadata": {},
     "output_type": "execute_result"
    }
   ],
   "source": [
    "#how many are restaurants?\n",
    "# assuming that restaurantpricerange is a good proxy for is_restaurant\n",
    "restaurant_test = business[~business['attributes.RestaurantsPriceRange2'].isna()]\n",
    "restaurant_test['name'].value_counts().head(10)"
   ]
  },
  {
   "cell_type": "markdown",
   "id": "03fe3119-8586-4ef8-8507-061990427360",
   "metadata": {},
   "source": [
    "This looks really messy -- Maybe there is a better way to filter for restaurants"
   ]
  },
  {
   "cell_type": "code",
   "execution_count": 30,
   "id": "cac5a121-005f-4ace-8529-5c32b7c6ae02",
   "metadata": {},
   "outputs": [
    {
     "data": {
      "text/plain": [
       "count    85280.000000\n",
       "mean         1.767953\n",
       "std          0.646859\n",
       "min          1.000000\n",
       "25%          1.000000\n",
       "50%          2.000000\n",
       "75%          2.000000\n",
       "max          4.000000\n",
       "Name: attributes.RestaurantsPriceRange2, dtype: float64"
      ]
     },
     "execution_count": 30,
     "metadata": {},
     "output_type": "execute_result"
    }
   ],
   "source": [
    "restaurant_test['attributes.RestaurantsPriceRange2'].describe()\n",
    "# looks like there are no na values here... \n",
    "# Still really messy -- Maybe there is a better way to filter for restaurants"
   ]
  },
  {
   "cell_type": "code",
   "execution_count": null,
   "id": "80ac85c5-09e2-4c74-9e60-0900977c4202",
   "metadata": {},
   "outputs": [],
   "source": [
    "restaurant_test2 = business[~business['attributes.RestaurantsPriceRange2'].isna()]\n"
   ]
  },
  {
   "cell_type": "code",
   "execution_count": 109,
   "id": "73a3fbc9-2678-4c95-bc61-d4a3928e94f5",
   "metadata": {},
   "outputs": [],
   "source": [
    "#categories are listed as a single comma seperated string. Need to break them into a list.\n",
    "# note that the data isn't very clean so the type is not consistent. Need try/except block to account for this.\n",
    "def split_categories(categories):\n",
    "    try:\n",
    "        output = categories.split(',')\n",
    "        return [x.strip().lower() for x in output]\n",
    "    except:\n",
    "        return \"\"\n",
    "        \n",
    "business['category_split'] = business.apply(lambda row: split_categories(row['categories']), axis=1)"
   ]
  },
  {
   "cell_type": "code",
   "execution_count": 110,
   "id": "11d4680b-1a2c-4a41-9cc2-ba441d3fdd6e",
   "metadata": {},
   "outputs": [
    {
     "data": {
      "text/plain": [
       "category_split\n",
       "restaurants                  52268\n",
       "food                         27781\n",
       "shopping                     24395\n",
       "home services                14356\n",
       "beauty & spas                14292\n",
       "nightlife                    12281\n",
       "health & medical             11890\n",
       "local services               11198\n",
       "bars                         11065\n",
       "automotive                   10773\n",
       "event planning & services     9895\n",
       "sandwiches                    8366\n",
       "american (traditional)        8139\n",
       "active life                   7687\n",
       "pizza                         7093\n",
       "coffee & tea                  6703\n",
       "fast food                     6472\n",
       "breakfast & brunch            6239\n",
       "american (new)                6097\n",
       "hotels & travel               5857\n",
       "Name: count, dtype: int64"
      ]
     },
     "execution_count": 110,
     "metadata": {},
     "output_type": "execute_result"
    }
   ],
   "source": [
    "business['category_split'].explode().value_counts().head(20)"
   ]
  },
  {
   "cell_type": "code",
   "execution_count": 112,
   "id": "ba973c79-eee1-4c7c-8c86-8f8efd8e5706",
   "metadata": {},
   "outputs": [
    {
     "data": {
      "text/plain": [
       "0    [doctors, traditional chinese medicine, naturo...\n",
       "1    [shipping centers, local services, notaries, m...\n",
       "2    [department stores, shopping, fashion, home & ...\n",
       "3    [restaurants, food, bubble tea, coffee & tea, ...\n",
       "4                          [brewpubs, breweries, food]\n",
       "Name: category_split, dtype: object"
      ]
     },
     "execution_count": 112,
     "metadata": {},
     "output_type": "execute_result"
    }
   ],
   "source": [
    "business['category_split'].head()"
   ]
  },
  {
   "cell_type": "code",
   "execution_count": 161,
   "id": "be369fd2-603f-48f3-a270-0ac85b48fc76",
   "metadata": {},
   "outputs": [],
   "source": [
    "categories_to_check = ['restaurants', 'food', 'bars', 'fast food']\n",
    "business['applicable_categories'] = business['category_split'].apply(lambda x : 1 if any(i in x for i in categories_to_check) else 0)\n",
    "filtered_businesses = business[business['applicable_categories'] == 1]"
   ]
  },
  {
   "cell_type": "code",
   "execution_count": 162,
   "id": "29721161-cbdb-462e-9856-08e57cb8cbe3",
   "metadata": {},
   "outputs": [
    {
     "name": "stdout",
     "output_type": "stream",
     "text": [
      "There are a total of 66770 businesses from an original total of 150346\n"
     ]
    }
   ],
   "source": [
    "print(\"There are a total of {num_remaining} businesses from an original total of {total}\".format(num_remaining = filtered_businesses.shape[0],\n",
    "                                                                                                 total = business.shape[0]))"
   ]
  },
  {
   "cell_type": "code",
   "execution_count": 163,
   "id": "f29db186-b799-4515-a8bf-4ce4ccd82b7e",
   "metadata": {},
   "outputs": [
    {
     "data": {
      "text/plain": [
       "state\n",
       "PA     15826\n",
       "FL     11261\n",
       "TN      5460\n",
       "MO      5283\n",
       "IN      5270\n",
       "LA      4845\n",
       "NJ      4173\n",
       "AZ      3452\n",
       "AB      3056\n",
       "NV      2396\n",
       "ID      1746\n",
       "CA      1641\n",
       "IL      1196\n",
       "DE      1160\n",
       "NC         1\n",
       "CO         1\n",
       "HI         1\n",
       "MT         1\n",
       "XMS        1\n",
       "Name: count, dtype: int64"
      ]
     },
     "execution_count": 163,
     "metadata": {},
     "output_type": "execute_result"
    }
   ],
   "source": [
    "# most of these appear to be in PA and FL\n",
    "filtered_businesses['state'].value_counts()"
   ]
  },
  {
   "cell_type": "code",
   "execution_count": 187,
   "id": "7556b690-324f-4007-bbc4-ccf743ac7dce",
   "metadata": {},
   "outputs": [
    {
     "name": "stderr",
     "output_type": "stream",
     "text": [
      "C:\\Users\\chreddin\\AppData\\Local\\Temp\\ipykernel_21468\\2214648279.py:5: FutureWarning: The geopandas.dataset module is deprecated and will be removed in GeoPandas 1.0. You can get the original 'naturalearth_lowres' data from https://www.naturalearthdata.com/downloads/110m-cultural-vectors/.\n",
      "  world = gpd.read_file(gpd.datasets.get_path('naturalearth_lowres'))\n"
     ]
    },
    {
     "data": {
      "image/png": "[encoded data removed]",
      "text/plain": [
       "<Figure size 800x800 with 1 Axes>"
      ]
     },
     "metadata": {},
     "output_type": "display_data"
    }
   ],
   "source": [
    "# Mapping to confirm \n",
    "lat_lon = filtered_businesses[['longitude', 'latitude']]\n",
    "geometry = gpd.points_from_xy(lat_lon['longitude'], lat_lon['latitude'])\n",
    "gdf = GeoDataFrame(lat_lon, geometry=geometry)   \n",
    "world = gpd.read_file(gpd.datasets.get_path('naturalearth_lowres'))\n",
    "north_america = world[world['continent'] == 'North America']\n",
    "gdf.plot(ax=north_america.plot(figsize=(8, 8)), marker='o', color='red', markersize=5, alpha=1);"
   ]
  },
  {
   "cell_type": "code",
   "execution_count": null,
   "id": "de384e54-4239-4e54-9c9f-b6c88aabf0cd",
   "metadata": {},
   "outputs": [],
   "source": [
    "#Montreal, Calgary, Toronto, Pittsburgh, Charlotte, Urbana-Champaign, Phoenix, Las Vegas, Madison, and Cleveland,"
   ]
  },
  {
   "cell_type": "code",
   "execution_count": 188,
   "id": "97423e38-a96b-4d16-a43f-578a1257c00c",
   "metadata": {},
   "outputs": [],
   "source": [
    "# Filtering for just restaurants in PA for POC\n",
    "filtered_businesses_2 = filtered_businesses[filtered_businesses['state'] == 'PA']"
   ]
  },
  {
   "cell_type": "code",
   "execution_count": 190,
   "id": "92b4f041-e3c6-480e-9306-ff017537e268",
   "metadata": {},
   "outputs": [
    {
     "name": "stdout",
     "output_type": "stream",
     "text": [
      "There are a total of 15826 businesses from an original total of 150346\n"
     ]
    }
   ],
   "source": [
    "print(\"There are a total of {num_remaining} businesses from an original total of {total}\".format(num_remaining = filtered_businesses_2.shape[0],\n",
    "                                                                                                 total = business.shape[0]))"
   ]
  },
  {
   "cell_type": "code",
   "execution_count": 191,
   "id": "4ecf0fb2-9d1a-4638-a065-3d123ab79ccb",
   "metadata": {},
   "outputs": [
    {
     "name": "stderr",
     "output_type": "stream",
     "text": [
      "C:\\Users\\chreddin\\AppData\\Local\\Temp\\ipykernel_21468\\1724559345.py:5: FutureWarning: The geopandas.dataset module is deprecated and will be removed in GeoPandas 1.0. You can get the original 'naturalearth_lowres' data from https://www.naturalearthdata.com/downloads/110m-cultural-vectors/.\n",
      "  world = gpd.read_file(gpd.datasets.get_path('naturalearth_lowres'))\n"
     ]
    },
    {
     "data": {
      "image/png": "[encoded data removed]",
      "text/plain": [
       "<Figure size 800x800 with 1 Axes>"
      ]
     },
     "metadata": {},
     "output_type": "display_data"
    }
   ],
   "source": [
    "# Mapping to confirm \n",
    "lat_lon = filtered_businesses_2[['longitude', 'latitude']]\n",
    "geometry = gpd.points_from_xy(lat_lon['longitude'], lat_lon['latitude'])\n",
    "gdf = GeoDataFrame(lat_lon, geometry=geometry)   \n",
    "world = gpd.read_file(gpd.datasets.get_path('naturalearth_lowres'))\n",
    "north_america = world[world['continent'] == 'North America']\n",
    "gdf.plot(ax=north_america.plot(figsize=(8, 8)), marker='o', color='red', markersize=5, alpha=1);"
   ]
  },
  {
   "cell_type": "markdown",
   "id": "6e8a4d92-d396-430a-9ae0-9fc25f48dbf4",
   "metadata": {},
   "source": [
    "## Time to import the user reviews so we can get some text fields"
   ]
  },
  {
   "cell_type": "code",
   "execution_count": 192,
   "id": "693c6527-0bf6-495c-a31d-9ede0b91516a",
   "metadata": {},
   "outputs": [],
   "source": [
    "if data_import:\n",
    "    reviews = pd.read_csv(\"yelp_dataset/yelp_academic_dataset_review.csv\")"
   ]
  },
  {
   "cell_type": "code",
   "execution_count": 193,
   "id": "48e6a205-2d4e-41d1-8dfc-ac1571f477f0",
   "metadata": {},
   "outputs": [
    {
     "data": {
      "text/plain": [
       "6990280"
      ]
     },
     "execution_count": 193,
     "metadata": {},
     "output_type": "execute_result"
    }
   ],
   "source": [
    "reviews.shape[0]"
   ]
  },
  {
   "cell_type": "code",
   "execution_count": 194,
   "id": "c1ae95d3-9809-4890-a6f9-6acdc0cd12b6",
   "metadata": {},
   "outputs": [
    {
     "data": {
      "text/html": [
       "<div>\n",
       "<style scoped>\n",
       "    .dataframe tbody tr th:only-of-type {\n",
       "        vertical-align: middle;\n",
       "    }\n",
       "\n",
       "    .dataframe tbody tr th {\n",
       "        vertical-align: top;\n",
       "    }\n",
       "\n",
       "    .dataframe thead th {\n",
       "        text-align: right;\n",
       "    }\n",
       "</style>\n",
       "<table border=\"1\" class=\"dataframe\">\n",
       "  <thead>\n",
       "    <tr style=\"text-align: right;\">\n",
       "      <th></th>\n",
       "      <th>review_id</th>\n",
       "      <th>stars</th>\n",
       "      <th>cool</th>\n",
       "      <th>funny</th>\n",
       "      <th>useful</th>\n",
       "      <th>date</th>\n",
       "      <th>business_id</th>\n",
       "      <th>user_id</th>\n",
       "      <th>text</th>\n",
       "    </tr>\n",
       "  </thead>\n",
       "  <tbody>\n",
       "    <tr>\n",
       "      <th>0</th>\n",
       "      <td>KU_O5udG6zpxOg-VcAEodg</td>\n",
       "      <td>3.0</td>\n",
       "      <td>0</td>\n",
       "      <td>0</td>\n",
       "      <td>0</td>\n",
       "      <td>2018-07-07 22:09:11</td>\n",
       "      <td>XQfwVwDr-v0ZS3_CbbE5Xw</td>\n",
       "      <td>mh_-eMZ6K5RLWhZyISBhwA</td>\n",
       "      <td>If you decide to eat here, just be aware it is...</td>\n",
       "    </tr>\n",
       "    <tr>\n",
       "      <th>1</th>\n",
       "      <td>BiTunyQ73aT9WBnpR9DZGw</td>\n",
       "      <td>5.0</td>\n",
       "      <td>1</td>\n",
       "      <td>0</td>\n",
       "      <td>1</td>\n",
       "      <td>2012-01-03 15:28:18</td>\n",
       "      <td>7ATYjTIgM3jUlt4UM3IypQ</td>\n",
       "      <td>OyoGAe7OKpv6SyGZT5g77Q</td>\n",
       "      <td>I've taken a lot of spin classes over the year...</td>\n",
       "    </tr>\n",
       "    <tr>\n",
       "      <th>2</th>\n",
       "      <td>saUsX_uimxRlCVr67Z4Jig</td>\n",
       "      <td>3.0</td>\n",
       "      <td>0</td>\n",
       "      <td>0</td>\n",
       "      <td>0</td>\n",
       "      <td>2014-02-05 20:30:30</td>\n",
       "      <td>YjUWPpI6HXG530lwP-fb2A</td>\n",
       "      <td>8g_iMtfSiwikVnbP2etR0A</td>\n",
       "      <td>Family diner. Had the buffet. Eclectic assortm...</td>\n",
       "    </tr>\n",
       "    <tr>\n",
       "      <th>3</th>\n",
       "      <td>AqPFMleE6RsU23_auESxiA</td>\n",
       "      <td>5.0</td>\n",
       "      <td>1</td>\n",
       "      <td>0</td>\n",
       "      <td>1</td>\n",
       "      <td>2015-01-04 00:01:03</td>\n",
       "      <td>kxX2SOes4o-D3ZQBkiMRfA</td>\n",
       "      <td>_7bHUi9Uuf5__HHc_Q8guQ</td>\n",
       "      <td>Wow!  Yummy, different,  delicious.   Our favo...</td>\n",
       "    </tr>\n",
       "    <tr>\n",
       "      <th>4</th>\n",
       "      <td>Sx8TMOWLNuJBWer-0pcmoA</td>\n",
       "      <td>4.0</td>\n",
       "      <td>1</td>\n",
       "      <td>0</td>\n",
       "      <td>1</td>\n",
       "      <td>2017-01-14 20:54:15</td>\n",
       "      <td>e4Vwtrqf-wpJfwesgvdgxQ</td>\n",
       "      <td>bcjbaE6dDog4jkNY91ncLQ</td>\n",
       "      <td>Cute interior and owner (?) gave us tour of up...</td>\n",
       "    </tr>\n",
       "  </tbody>\n",
       "</table>\n",
       "</div>"
      ],
      "text/plain": [
       "                review_id  stars  cool  funny  useful                 date  \\\n",
       "0  KU_O5udG6zpxOg-VcAEodg    3.0     0      0       0  2018-07-07 22:09:11   \n",
       "1  BiTunyQ73aT9WBnpR9DZGw    5.0     1      0       1  2012-01-03 15:28:18   \n",
       "2  saUsX_uimxRlCVr67Z4Jig    3.0     0      0       0  2014-02-05 20:30:30   \n",
       "3  AqPFMleE6RsU23_auESxiA    5.0     1      0       1  2015-01-04 00:01:03   \n",
       "4  Sx8TMOWLNuJBWer-0pcmoA    4.0     1      0       1  2017-01-14 20:54:15   \n",
       "\n",
       "              business_id                 user_id  \\\n",
       "0  XQfwVwDr-v0ZS3_CbbE5Xw  mh_-eMZ6K5RLWhZyISBhwA   \n",
       "1  7ATYjTIgM3jUlt4UM3IypQ  OyoGAe7OKpv6SyGZT5g77Q   \n",
       "2  YjUWPpI6HXG530lwP-fb2A  8g_iMtfSiwikVnbP2etR0A   \n",
       "3  kxX2SOes4o-D3ZQBkiMRfA  _7bHUi9Uuf5__HHc_Q8guQ   \n",
       "4  e4Vwtrqf-wpJfwesgvdgxQ  bcjbaE6dDog4jkNY91ncLQ   \n",
       "\n",
       "                                                text  \n",
       "0  If you decide to eat here, just be aware it is...  \n",
       "1  I've taken a lot of spin classes over the year...  \n",
       "2  Family diner. Had the buffet. Eclectic assortm...  \n",
       "3  Wow!  Yummy, different,  delicious.   Our favo...  \n",
       "4  Cute interior and owner (?) gave us tour of up...  "
      ]
     },
     "execution_count": 194,
     "metadata": {},
     "output_type": "execute_result"
    }
   ],
   "source": [
    "reviews.head()"
   ]
  },
  {
   "cell_type": "code",
   "execution_count": 198,
   "id": "465d0f6c-d712-42ed-b735-b857d99d13e0",
   "metadata": {},
   "outputs": [],
   "source": [
    "filtered_reviews = reviews[reviews['business_id'].isin(filtered_businesses_2['business_id'])]"
   ]
  },
  {
   "cell_type": "code",
   "execution_count": 199,
   "id": "69c1c3f9-1d2c-4ccc-a529-e0d6c1efe686",
   "metadata": {},
   "outputs": [
    {
     "data": {
      "text/plain": [
       "1205306"
      ]
     },
     "execution_count": 199,
     "metadata": {},
     "output_type": "execute_result"
    }
   ],
   "source": [
    "filtered_reviews.shape[0]"
   ]
  },
  {
   "cell_type": "code",
   "execution_count": 216,
   "id": "a7cd55ae-a389-4dd0-a638-5df940f46c62",
   "metadata": {},
   "outputs": [
    {
     "data": {
      "image/png": "[encoded data removed]",
      "text/plain": [
       "<Figure size 1000x500 with 2 Axes>"
      ]
     },
     "metadata": {},
     "output_type": "display_data"
    }
   ],
   "source": [
    "# Looking at distribution of reviews by person\n",
    "fig, axs = plt.subplots(2, 1, figsize=(10,5))\n",
    "reviews_by_user = filtered_reviews['user_id'].value_counts()\n",
    "reviews_by_business = filtered_reviews['business_id'].value_counts()\n",
    "axs[0].hist(reviews_by_user, bins=1000)\n",
    "axs[0].set_yscale('log')\n",
    "axs[0].set_ylabel('Number reviews (log scale')\n",
    "axs[0].set_xlabel('User count')\n",
    "\n",
    "axs[1].hist(reviews_by_business, bins=1000)\n",
    "axs[1].set_yscale('log')\n",
    "axs[1].set_ylabel('Number reviews (log scale')\n",
    "axs[1].set_xlabel('Business count')\n",
    "fig.tight_layout()\n",
    "plt.show()"
   ]
  },
  {
   "cell_type": "markdown",
   "id": "658a5136-30f3-4e7e-880b-684e383793e6",
   "metadata": {},
   "source": [
    "What do we do with this information then? Should we treat power users, or popular businesses differently than the rest of the population. I'm thinking that likely not. We may want some filtering around the minimum number of reviews that a user or business shold have (stretch: use a data-driven approach here) before we make a recommendation."
   ]
  },
  {
   "cell_type": "code",
   "execution_count": 248,
   "id": "45cf5b20-4e74-4c66-b6c1-73f832f4045f",
   "metadata": {},
   "outputs": [
    {
     "data": {
      "image/png": "[encoded data removed]",
      "text/plain": [
       "<Figure size 640x480 with 1 Axes>"
      ]
     },
     "metadata": {},
     "output_type": "display_data"
    }
   ],
   "source": [
    "fig, ax = plt.subplots()\n",
    "ax.hist(filtered_reviews['stars'], bins=[1, 2, 3, 4, 5, 6])\n",
    "plt.show()"
   ]
  },
  {
   "cell_type": "markdown",
   "id": "7afd5b32-1613-4dd6-8b08-3eaf0284cdb4",
   "metadata": {},
   "source": [
    "Star reviews skew towards 5 stars and one stars, but mid values (2-4) are the majority. For the purpose of recommendation we could consider 4 & 5 stars as \"good reviews\" and everything below that as \"bad\". As a stretch goal, we could make this scalable (i.e. A 5-star review counts for more than a 4-star review, etc.)"
   ]
  },
  {
   "cell_type": "code",
   "execution_count": null,
   "id": "2f4159e7-9d5c-464b-9c72-e4447e241da3",
   "metadata": {},
   "outputs": [],
   "source": []
  },
  {
   "cell_type": "markdown",
   "id": "07b3340f-7881-46c0-b6e2-643e0e25da48",
   "metadata": {},
   "source": [
    "REMOVE DUPLICATES!"
   ]
  },
  {
   "cell_type": "code",
   "execution_count": null,
   "id": "1d8e8365-5711-472e-8e78-de9ecb087436",
   "metadata": {},
   "outputs": [],
   "source": []
  },
  {
   "cell_type": "code",
   "execution_count": 262,
   "id": "3cff496c-9a80-4418-b514-5eca5f5a599f",
   "metadata": {},
   "outputs": [],
   "source": [
    "# Filtering for businesses with > 10 reviews. This is being chosen wihtout a data-driven approach for simplicity, in order to determine business commonalities\n",
    "n = 10\n",
    "over_n_businesses = filtered_reviews.groupby('business_id')['stars'].count()\n",
    "over_n_businesses = over_n_businesses[over_n_businesses > n].index\n",
    "filtered_reviews_2 = filtered_reviews[filtered_reviews['business_id'].isin(over_n_businesses)]"
   ]
  },
  {
   "cell_type": "code",
   "execution_count": 263,
   "id": "11a9d147-d0cf-4015-886b-484a0870b15e",
   "metadata": {},
   "outputs": [
    {
     "data": {
      "text/html": [
       "<div>\n",
       "<style scoped>\n",
       "    .dataframe tbody tr th:only-of-type {\n",
       "        vertical-align: middle;\n",
       "    }\n",
       "\n",
       "    .dataframe tbody tr th {\n",
       "        vertical-align: top;\n",
       "    }\n",
       "\n",
       "    .dataframe thead th {\n",
       "        text-align: right;\n",
       "    }\n",
       "</style>\n",
       "<table border=\"1\" class=\"dataframe\">\n",
       "  <thead>\n",
       "    <tr style=\"text-align: right;\">\n",
       "      <th></th>\n",
       "      <th>review_id</th>\n",
       "      <th>stars</th>\n",
       "      <th>cool</th>\n",
       "      <th>funny</th>\n",
       "      <th>useful</th>\n",
       "      <th>date</th>\n",
       "      <th>business_id</th>\n",
       "      <th>user_id</th>\n",
       "      <th>text</th>\n",
       "    </tr>\n",
       "  </thead>\n",
       "  <tbody>\n",
       "    <tr>\n",
       "      <th>0</th>\n",
       "      <td>KU_O5udG6zpxOg-VcAEodg</td>\n",
       "      <td>3.0</td>\n",
       "      <td>0</td>\n",
       "      <td>0</td>\n",
       "      <td>0</td>\n",
       "      <td>2018-07-07 22:09:11</td>\n",
       "      <td>XQfwVwDr-v0ZS3_CbbE5Xw</td>\n",
       "      <td>mh_-eMZ6K5RLWhZyISBhwA</td>\n",
       "      <td>If you decide to eat here, just be aware it is...</td>\n",
       "    </tr>\n",
       "    <tr>\n",
       "      <th>3</th>\n",
       "      <td>AqPFMleE6RsU23_auESxiA</td>\n",
       "      <td>5.0</td>\n",
       "      <td>1</td>\n",
       "      <td>0</td>\n",
       "      <td>1</td>\n",
       "      <td>2015-01-04 00:01:03</td>\n",
       "      <td>kxX2SOes4o-D3ZQBkiMRfA</td>\n",
       "      <td>_7bHUi9Uuf5__HHc_Q8guQ</td>\n",
       "      <td>Wow!  Yummy, different,  delicious.   Our favo...</td>\n",
       "    </tr>\n",
       "    <tr>\n",
       "      <th>5</th>\n",
       "      <td>JrIxlS1TzJ-iCu79ul40cQ</td>\n",
       "      <td>1.0</td>\n",
       "      <td>1</td>\n",
       "      <td>2</td>\n",
       "      <td>1</td>\n",
       "      <td>2015-09-23 23:10:31</td>\n",
       "      <td>04UD14gamNjLY0IDYVhHJg</td>\n",
       "      <td>eUta8W_HdHMXPzLBBZhL1A</td>\n",
       "      <td>I am a long term frequent customer of this est...</td>\n",
       "    </tr>\n",
       "    <tr>\n",
       "      <th>7</th>\n",
       "      <td>_ZeMknuYdlQcUqng_Im3yg</td>\n",
       "      <td>5.0</td>\n",
       "      <td>0</td>\n",
       "      <td>0</td>\n",
       "      <td>2</td>\n",
       "      <td>2015-08-07 02:29:16</td>\n",
       "      <td>LHSTtnW3YHCeUkRDGyJOyw</td>\n",
       "      <td>yfFzsLmaWF2d4Sr0UNbBgg</td>\n",
       "      <td>Amazingly amazing wings and homemade bleu chee...</td>\n",
       "    </tr>\n",
       "    <tr>\n",
       "      <th>13</th>\n",
       "      <td>8JFGBuHMoiNDyfcxuWNtrA</td>\n",
       "      <td>4.0</td>\n",
       "      <td>0</td>\n",
       "      <td>0</td>\n",
       "      <td>0</td>\n",
       "      <td>2009-10-14 19:57:14</td>\n",
       "      <td>RZtGWDLCAtuipwaZ-UfjmQ</td>\n",
       "      <td>smOvOajNG0lS4Pq7d8g4JQ</td>\n",
       "      <td>Good food--loved the gnocchi with marinara\\r\\n...</td>\n",
       "    </tr>\n",
       "    <tr>\n",
       "      <th>...</th>\n",
       "      <td>...</td>\n",
       "      <td>...</td>\n",
       "      <td>...</td>\n",
       "      <td>...</td>\n",
       "      <td>...</td>\n",
       "      <td>...</td>\n",
       "      <td>...</td>\n",
       "      <td>...</td>\n",
       "      <td>...</td>\n",
       "    </tr>\n",
       "    <tr>\n",
       "      <th>6990255</th>\n",
       "      <td>MVg4YUQeEhCA7Z7RsBJSVg</td>\n",
       "      <td>3.0</td>\n",
       "      <td>0</td>\n",
       "      <td>0</td>\n",
       "      <td>1</td>\n",
       "      <td>2013-07-25 21:00:15</td>\n",
       "      <td>ytynqOUb3hjKeJfRj5Tshw</td>\n",
       "      <td>7-7A0Avj47slLGV7yBFc8w</td>\n",
       "      <td>I was so excited about all the food I saw, but...</td>\n",
       "    </tr>\n",
       "    <tr>\n",
       "      <th>6990260</th>\n",
       "      <td>nLjbVsETpqO17RbFcqskkA</td>\n",
       "      <td>3.0</td>\n",
       "      <td>2</td>\n",
       "      <td>0</td>\n",
       "      <td>2</td>\n",
       "      <td>2014-11-03 14:45:46</td>\n",
       "      <td>3gVSrS4kffGGZT8oXHsIcw</td>\n",
       "      <td>am7-gkH_PDz598oTdYSD6A</td>\n",
       "      <td>*Later Yelp* I've only been here once, but I l...</td>\n",
       "    </tr>\n",
       "    <tr>\n",
       "      <th>6990265</th>\n",
       "      <td>KlHxcAifUF5zDKpJCBrRsw</td>\n",
       "      <td>4.0</td>\n",
       "      <td>0</td>\n",
       "      <td>0</td>\n",
       "      <td>1</td>\n",
       "      <td>2012-10-21 04:08:40</td>\n",
       "      <td>qQO7ErS_RAN4Vs1uX0L55Q</td>\n",
       "      <td>7ziWZULyiZv2TesYNMFf4g</td>\n",
       "      <td>ice cream! ice cream sodas, sundaes!! \\r\\n\\r\\n...</td>\n",
       "    </tr>\n",
       "    <tr>\n",
       "      <th>6990269</th>\n",
       "      <td>cACxcUY_AIsQKkpDRXuqnw</td>\n",
       "      <td>3.0</td>\n",
       "      <td>0</td>\n",
       "      <td>1</td>\n",
       "      <td>1</td>\n",
       "      <td>2018-03-13 13:54:48</td>\n",
       "      <td>fcGexL5VH5G2Xw0tRj9uOQ</td>\n",
       "      <td>MCzlzlOw7IGbRAKVjJBPtg</td>\n",
       "      <td>This is a good pizza option - they deliver thr...</td>\n",
       "    </tr>\n",
       "    <tr>\n",
       "      <th>6990272</th>\n",
       "      <td>wD5ZWao_vjyT2h4xmGam8Q</td>\n",
       "      <td>5.0</td>\n",
       "      <td>1</td>\n",
       "      <td>0</td>\n",
       "      <td>1</td>\n",
       "      <td>2022-01-17 22:36:01</td>\n",
       "      <td>e_E-jq9mwm7wk75k7Yi-Xw</td>\n",
       "      <td>7L7GL5Pi2cf8mbm2Dpw4zw</td>\n",
       "      <td>It is very rare for a restaurant to be this go...</td>\n",
       "    </tr>\n",
       "  </tbody>\n",
       "</table>\n",
       "<p>1180804 rows × 9 columns</p>\n",
       "</div>"
      ],
      "text/plain": [
       "                      review_id  stars  cool  funny  useful  \\\n",
       "0        KU_O5udG6zpxOg-VcAEodg    3.0     0      0       0   \n",
       "3        AqPFMleE6RsU23_auESxiA    5.0     1      0       1   \n",
       "5        JrIxlS1TzJ-iCu79ul40cQ    1.0     1      2       1   \n",
       "7        _ZeMknuYdlQcUqng_Im3yg    5.0     0      0       2   \n",
       "13       8JFGBuHMoiNDyfcxuWNtrA    4.0     0      0       0   \n",
       "...                         ...    ...   ...    ...     ...   \n",
       "6990255  MVg4YUQeEhCA7Z7RsBJSVg    3.0     0      0       1   \n",
       "6990260  nLjbVsETpqO17RbFcqskkA    3.0     2      0       2   \n",
       "6990265  KlHxcAifUF5zDKpJCBrRsw    4.0     0      0       1   \n",
       "6990269  cACxcUY_AIsQKkpDRXuqnw    3.0     0      1       1   \n",
       "6990272  wD5ZWao_vjyT2h4xmGam8Q    5.0     1      0       1   \n",
       "\n",
       "                        date             business_id                 user_id  \\\n",
       "0        2018-07-07 22:09:11  XQfwVwDr-v0ZS3_CbbE5Xw  mh_-eMZ6K5RLWhZyISBhwA   \n",
       "3        2015-01-04 00:01:03  kxX2SOes4o-D3ZQBkiMRfA  _7bHUi9Uuf5__HHc_Q8guQ   \n",
       "5        2015-09-23 23:10:31  04UD14gamNjLY0IDYVhHJg  eUta8W_HdHMXPzLBBZhL1A   \n",
       "7        2015-08-07 02:29:16  LHSTtnW3YHCeUkRDGyJOyw  yfFzsLmaWF2d4Sr0UNbBgg   \n",
       "13       2009-10-14 19:57:14  RZtGWDLCAtuipwaZ-UfjmQ  smOvOajNG0lS4Pq7d8g4JQ   \n",
       "...                      ...                     ...                     ...   \n",
       "6990255  2013-07-25 21:00:15  ytynqOUb3hjKeJfRj5Tshw  7-7A0Avj47slLGV7yBFc8w   \n",
       "6990260  2014-11-03 14:45:46  3gVSrS4kffGGZT8oXHsIcw  am7-gkH_PDz598oTdYSD6A   \n",
       "6990265  2012-10-21 04:08:40  qQO7ErS_RAN4Vs1uX0L55Q  7ziWZULyiZv2TesYNMFf4g   \n",
       "6990269  2018-03-13 13:54:48  fcGexL5VH5G2Xw0tRj9uOQ  MCzlzlOw7IGbRAKVjJBPtg   \n",
       "6990272  2022-01-17 22:36:01  e_E-jq9mwm7wk75k7Yi-Xw  7L7GL5Pi2cf8mbm2Dpw4zw   \n",
       "\n",
       "                                                      text  \n",
       "0        If you decide to eat here, just be aware it is...  \n",
       "3        Wow!  Yummy, different,  delicious.   Our favo...  \n",
       "5        I am a long term frequent customer of this est...  \n",
       "7        Amazingly amazing wings and homemade bleu chee...  \n",
       "13       Good food--loved the gnocchi with marinara\\r\\n...  \n",
       "...                                                    ...  \n",
       "6990255  I was so excited about all the food I saw, but...  \n",
       "6990260  *Later Yelp* I've only been here once, but I l...  \n",
       "6990265  ice cream! ice cream sodas, sundaes!! \\r\\n\\r\\n...  \n",
       "6990269  This is a good pizza option - they deliver thr...  \n",
       "6990272  It is very rare for a restaurant to be this go...  \n",
       "\n",
       "[1180804 rows x 9 columns]"
      ]
     },
     "execution_count": 263,
     "metadata": {},
     "output_type": "execute_result"
    }
   ],
   "source": [
    "filtered_reviews_2"
   ]
  },
  {
   "cell_type": "code",
   "execution_count": null,
   "id": "e44935d9-8efb-4d2c-b377-9690853e4db7",
   "metadata": {},
   "outputs": [],
   "source": []
  }
 ],
 "metadata": {
  "kernelspec": {
   "display_name": "Python 3 (ipykernel)",
   "language": "python",
   "name": "python3"
  },
  "language_info": {
   "codemirror_mode": {
    "name": "ipython",
    "version": 3
   },
   "file_extension": ".py",
   "mimetype": "text/x-python",
   "name": "python",
   "nbconvert_exporter": "python",
   "pygments_lexer": "ipython3",
   "version": "3.12.0"
  }
 },
 "nbformat": 4,
 "nbformat_minor": 5
}
