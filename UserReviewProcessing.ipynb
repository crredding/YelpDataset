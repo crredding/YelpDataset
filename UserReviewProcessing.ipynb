{
 "cells": [
  {
   "cell_type": "markdown",
   "id": "6990963e-3560-4e06-9ca6-f60761575bfd",
   "metadata": {},
   "source": [
    "# User review data processing"
   ]
  },
  {
   "cell_type": "markdown",
   "id": "4ed8dd8e-98ba-495b-b057-ea18da9d1b26",
   "metadata": {},
   "source": [
    "I'm going to work through creating embeddings for the text. I'll start off using Tf-Idf as it's simple and easy to implmenet, but may expand to other more complicated embeddings later on.\n",
    "After the embeddings are created, I'm going to see if I can do some PCA to get an idea of how the reviews differ from eachother. I could also join this up to the companies themselves and see if I can figure out how the companies differ from eachother."
   ]
  },
  {
   "cell_type": "code",
   "execution_count": 185,
   "id": "196d5f38-e72c-4a5a-bc19-bc869421b4aa",
   "metadata": {},
   "outputs": [],
   "source": [
    "import pandas as pd\n",
    "import numpy as np\n",
    "import matplotlib.pyplot as plt\n",
    "plt.style.use('ggplot')\n",
    "from sklearn.feature_extraction.text import TfidfVectorizer, ENGLISH_STOP_WORDS\n",
    "from sklearn.cluster import KMeans \n",
    "from sklearn.metrics import silhouette_score, silhouette_samples\n",
    "from sklearn.decomposition import NMF, TruncatedSVD\n",
    "from collections import defaultdict\n",
    "from nltk import word_tokenize\n",
    "from nltk.stem import WordNetLemmatizer\n",
    "from nltk import pos_tag\n",
    "import nltk.corpus\n",
    "import string\n",
    "pd.set_option('display.max_columns', None)\n",
    "pd.set_option('display.max_rows', 100)\n",
    "first_run = False\n",
    "if first_run:\n",
    "    nltk.download('stopwords')\n",
    "    nltk.download('punkt')\n",
    "    nltk.download('wordnet')"
   ]
  },
  {
   "cell_type": "code",
   "execution_count": 2,
   "id": "154725b1-62f0-45ff-be9a-03b264d031b7",
   "metadata": {},
   "outputs": [],
   "source": [
    "review_data = pd.read_csv('yelp_dataset/filtered_reviews_PA.tsv', sep='\\t')"
   ]
  },
  {
   "cell_type": "code",
   "execution_count": 4,
   "id": "f3e3d06c-bec4-42ed-80f5-b339eea2d16e",
   "metadata": {},
   "outputs": [],
   "source": [
    "review_data = review_data[['review_id', 'stars', 'business_id', 'user_id', 'text']]"
   ]
  },
  {
   "cell_type": "code",
   "execution_count": 55,
   "id": "cad4ae89-08e4-4730-8aed-7c12771eaf06",
   "metadata": {},
   "outputs": [
    {
     "data": {
      "text/html": [
       "<div>\n",
       "<style scoped>\n",
       "    .dataframe tbody tr th:only-of-type {\n",
       "        vertical-align: middle;\n",
       "    }\n",
       "\n",
       "    .dataframe tbody tr th {\n",
       "        vertical-align: top;\n",
       "    }\n",
       "\n",
       "    .dataframe thead th {\n",
       "        text-align: right;\n",
       "    }\n",
       "</style>\n",
       "<table border=\"1\" class=\"dataframe\">\n",
       "  <thead>\n",
       "    <tr style=\"text-align: right;\">\n",
       "      <th></th>\n",
       "      <th>review_id</th>\n",
       "      <th>stars</th>\n",
       "      <th>business_id</th>\n",
       "      <th>user_id</th>\n",
       "      <th>text</th>\n",
       "    </tr>\n",
       "  </thead>\n",
       "  <tbody>\n",
       "    <tr>\n",
       "      <th>0</th>\n",
       "      <td>KU_O5udG6zpxOg-VcAEodg</td>\n",
       "      <td>3.0</td>\n",
       "      <td>XQfwVwDr-v0ZS3_CbbE5Xw</td>\n",
       "      <td>mh_-eMZ6K5RLWhZyISBhwA</td>\n",
       "      <td>if you decide to eat here just be aware it is ...</td>\n",
       "    </tr>\n",
       "    <tr>\n",
       "      <th>1</th>\n",
       "      <td>AqPFMleE6RsU23_auESxiA</td>\n",
       "      <td>5.0</td>\n",
       "      <td>kxX2SOes4o-D3ZQBkiMRfA</td>\n",
       "      <td>_7bHUi9Uuf5__HHc_Q8guQ</td>\n",
       "      <td>wow yummy different delicious our favorite is ...</td>\n",
       "    </tr>\n",
       "    <tr>\n",
       "      <th>2</th>\n",
       "      <td>JrIxlS1TzJ-iCu79ul40cQ</td>\n",
       "      <td>1.0</td>\n",
       "      <td>04UD14gamNjLY0IDYVhHJg</td>\n",
       "      <td>eUta8W_HdHMXPzLBBZhL1A</td>\n",
       "      <td>i am a long term frequent customer of this est...</td>\n",
       "    </tr>\n",
       "  </tbody>\n",
       "</table>\n",
       "</div>"
      ],
      "text/plain": [
       "                review_id  stars             business_id  \\\n",
       "0  KU_O5udG6zpxOg-VcAEodg    3.0  XQfwVwDr-v0ZS3_CbbE5Xw   \n",
       "1  AqPFMleE6RsU23_auESxiA    5.0  kxX2SOes4o-D3ZQBkiMRfA   \n",
       "2  JrIxlS1TzJ-iCu79ul40cQ    1.0  04UD14gamNjLY0IDYVhHJg   \n",
       "\n",
       "                  user_id                                               text  \n",
       "0  mh_-eMZ6K5RLWhZyISBhwA  if you decide to eat here just be aware it is ...  \n",
       "1  _7bHUi9Uuf5__HHc_Q8guQ  wow yummy different delicious our favorite is ...  \n",
       "2  eUta8W_HdHMXPzLBBZhL1A  i am a long term frequent customer of this est...  "
      ]
     },
     "execution_count": 55,
     "metadata": {},
     "output_type": "execute_result"
    }
   ],
   "source": [
    "review_data.head(3)"
   ]
  },
  {
   "cell_type": "markdown",
   "id": "e3112e57-3457-409f-b3ec-c7bcf3e4633d",
   "metadata": {},
   "source": [
    "### Curating stopwords"
   ]
  },
  {
   "cell_type": "code",
   "execution_count": 39,
   "id": "ef36de9f-edea-4904-a3cf-f775696e18a1",
   "metadata": {},
   "outputs": [],
   "source": [
    "#Identifying stopwords from multiple sources\n",
    "my_stopwords = ['review']\n",
    "nltk_stop_words = list(nltk.corpus.stopwords.words('english'))\n",
    "nltk_stop_words = [word.translate(str.maketrans('', '', string.punctuation)) for word in nltk_stop_words]\n",
    "stopwords = list(set(list(ENGLISH_STOP_WORDS) + my_stopwords + nltk_stop_words))"
   ]
  },
  {
   "cell_type": "markdown",
   "id": "846441b2-f4db-4ea5-b5bb-b70d6ea059f7",
   "metadata": {},
   "source": [
    "### Adding LemmaTokenizer to lemmatize words"
   ]
  },
  {
   "cell_type": "code",
   "execution_count": 41,
   "id": "0bbd85d5-0347-4732-8b1a-9a7274af3db6",
   "metadata": {},
   "outputs": [],
   "source": [
    "class LemmaTokenizer(object):\n",
    "    def __init__(self):\n",
    "        self.wnl = WordNetLemmatizer()\n",
    "    def __call__(self, doc):\n",
    "        return [self.wnl.lemmatize(t) for t in word_tokenize(doc)]"
   ]
  },
  {
   "cell_type": "markdown",
   "id": "9b5f2be3-5e3b-4345-89f6-6676ed139a5d",
   "metadata": {},
   "source": [
    "### Initializing tf-idf"
   ]
  },
  {
   "cell_type": "markdown",
   "id": "86d8a039-b738-444c-b6ca-2eec1de7c850",
   "metadata": {},
   "source": [
    "TermFrequence = frequency of term in document / total term in document\n",
    "InverseDocumentFrequence = log(total number of documents / total documents that have the term)\n",
    "\n",
    "tf-idf = TF(t,d) * IDF(t)\n",
    "\n",
    "Put another way, a term that appears multiple times in one review, but doesn't appear in other reviews, is particuarly important and is weighted as such."
   ]
  },
  {
   "cell_type": "code",
   "execution_count": 42,
   "id": "abacb7ba-bdc7-42ef-adb2-f35525555472",
   "metadata": {},
   "outputs": [],
   "source": [
    "tf = TfidfVectorizer(strip_accents='unicode',\n",
    "                     tokenizer=LemmaTokenizer(),\n",
    "                     stop_words=stopwords,\n",
    "                     max_features=500)"
   ]
  },
  {
   "cell_type": "code",
   "execution_count": 70,
   "id": "488daf5d-7af7-4e75-be38-74e1fb12d948",
   "metadata": {},
   "outputs": [],
   "source": [
    "#NOTE: Could expand to use bi-tri grams"
   ]
  },
  {
   "cell_type": "code",
   "execution_count": 56,
   "id": "1f93201f-4579-4814-9b3f-464eec529550",
   "metadata": {},
   "outputs": [
    {
     "name": "stderr",
     "output_type": "stream",
     "text": [
      "C:\\Users\\chreddin\\AppData\\Local\\anaconda3\\envs\\py312\\Lib\\site-packages\\sklearn\\feature_extraction\\text.py:525: UserWarning: The parameter 'token_pattern' will not be used since 'tokenizer' is not None'\n",
      "  warnings.warn(\n"
     ]
    }
   ],
   "source": [
    "tfidf = tf.fit_transform(review_data['text'])"
   ]
  },
  {
   "cell_type": "code",
   "execution_count": 69,
   "id": "8d33cfa1-1055-42d4-b422-882530f0c25e",
   "metadata": {},
   "outputs": [
    {
     "data": {
      "text/plain": [
       "(1203012, 500)"
      ]
     },
     "execution_count": 69,
     "metadata": {},
     "output_type": "execute_result"
    }
   ],
   "source": [
    "# We have 1.2M reviews with 500 features\n",
    "tfidf.shape"
   ]
  },
  {
   "cell_type": "code",
   "execution_count": 75,
   "id": "6ab13b77-62fe-4bb6-9988-b80a2bb779ec",
   "metadata": {},
   "outputs": [],
   "source": [
    "feature_names = tf.get_feature_names_out()\n",
    "features = tfidf.toarray()"
   ]
  },
  {
   "cell_type": "code",
   "execution_count": 180,
   "id": "b11202b7-e4c6-4fd8-8654-3a68baa903b8",
   "metadata": {},
   "outputs": [
    {
     "name": "stdout",
     "output_type": "stream",
     "text": [
      "          word  feature_index  tf-idf_weight\n",
      "85     usually          461.0       0.394302\n",
      "57        long          253.0       0.351231\n",
      "47  experience          150.0       0.306584\n",
      "89       diner          118.0       0.238933\n",
      "69    pleasant          326.0       0.228738\n",
      "58        time          440.0       0.215048\n",
      "20         end          137.0       0.210082\n",
      "83     waiting          473.0       0.208639\n",
      "46         bad           31.0       0.172434\n",
      "15           2            3.0       0.172283\n",
      "23       tried          449.0       0.170618\n",
      "29        want          477.0       0.162575\n",
      "11       going          186.0       0.161800\n",
      "4          eat          132.0       0.159222\n",
      "80         way          481.0       0.158528\n",
      "60        come           88.0       0.140026\n",
      "96       order          298.0       0.133160\n",
      "91  restaurant          355.0       0.130884\n",
      "31        like          243.0       0.112358\n",
      "51        good          187.0       0.091415\n",
      "49        food          168.0       0.082975\n",
      "['if', 'you', 'decide', 'to', 'eat', 'here', 'just', 'be', 'aware', 'it', 'is', 'going', 'to', 'take', 'about', '2', 'hours', 'from', 'beginning', 'to', 'end', 'we', 'have', 'tried', 'it', 'multiple', 'times', 'because', 'i', 'want', 'to', 'like', 'it', 'i', 'have', 'been', 'to', 'its', 'other', 'locations', 'in', 'nj', 'and', 'never', 'had', 'a', 'bad', 'experience', 'the', 'food', 'is', 'good', 'but', 'it', 'takes', 'a', 'very', 'long', 'time', 'to', 'come', 'out', 'the', 'waitstaff', 'is', 'very', 'young', 'but', 'usually', 'pleasant', 'we', 'have', 'just', 'had', 'too', 'many', 'experiences', 'where', 'we', 'spent', 'way', 'too', 'long', 'waiting', 'we', 'usually', 'opt', 'for', 'another', 'diner', 'or', 'restaurant', 'on', 'the', 'weekends', 'in', 'order', 'to', 'be', 'done', 'quicker']\n"
     ]
    }
   ],
   "source": [
    "#Checking out one review to see features chosen and tf-idf output\n",
    "test_review = review_data.iloc[0]['text'].split()\n",
    "\n",
    "test_review_mapping = np.zeros(len(test_review))\n",
    "for i in range(len(test_review)):\n",
    "    feature_index = np.where(feature_names == test_review[i])[0]\n",
    "    if feature_index.size > 0:\n",
    "        test_review_mapping[i] = feature_index[0]\n",
    "\n",
    "test_review_weights = np.zeros(len(test_review_mapping))\n",
    "for i, index in enumerate(test_review_mapping):\n",
    "    test_review_weights[i] = features[0][int(index)]  \n",
    "\n",
    "test_review_output = pd.DataFrame(zip(np.array(test_review), \n",
    "                                      test_review_mapping.T, \n",
    "                                      test_review_weights.T), \n",
    "                                  columns=['word', 'feature_index', 'tf-idf_weight'])\n",
    "print(test_review_output[test_review_output['feature_index'] != 0].sort_values('tf-idf_weight', ascending=False).drop_duplicates())\n",
    "print(test_review)"
   ]
  },
  {
   "cell_type": "code",
   "execution_count": 198,
   "id": "7bc31ef0-5e51-4481-9b21-0d8ad97f8d4d",
   "metadata": {},
   "outputs": [],
   "source": [
    "# Classify as good and bad reviews?\n",
    "svd = TruncatedSVD(n_components=3, random_state=42)\n",
    "x_svd = svd.fit_transform(features)"
   ]
  },
  {
   "cell_type": "code",
   "execution_count": 203,
   "id": "f4031753-c7d0-42e5-bc8c-594f0c7b38a8",
   "metadata": {},
   "outputs": [
    {
     "data": {
      "image/png": "[encoded data removed]",
      "text/plain": [
       "<Figure size 640x480 with 1 Axes>"
      ]
     },
     "metadata": {},
     "output_type": "display_data"
    }
   ],
   "source": [
    "# Nothing to really show here. There aren't clear differences between one type of review\n",
    "# and another when using SVD on the tf-idf output.\n",
    "fig = plt.figure()\n",
    "ax = fig.add_subplot(projection='3d')\n",
    "ax.scatter(x_svd[:,0], x_svd[:,1], x_svd[:,2], alpha=0.002)\n",
    "plt.show()"
   ]
  },
  {
   "cell_type": "code",
   "execution_count": null,
   "id": "bcc9d6bf-46af-4188-967a-7edf410a4d52",
   "metadata": {},
   "outputs": [],
   "source": []
  }
 ],
 "metadata": {
  "kernelspec": {
   "display_name": "Python 3 (ipykernel)",
   "language": "python",
   "name": "python3"
  },
  "language_info": {
   "codemirror_mode": {
    "name": "ipython",
    "version": 3
   },
   "file_extension": ".py",
   "mimetype": "text/x-python",
   "name": "python",
   "nbconvert_exporter": "python",
   "pygments_lexer": "ipython3",
   "version": "3.12.0"
  }
 },
 "nbformat": 4,
 "nbformat_minor": 5
}
