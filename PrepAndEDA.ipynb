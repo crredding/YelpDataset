{
 "cells": [
  {
   "cell_type": "markdown",
   "id": "26a40d81-dfe1-48af-a7c5-d2a750a3800e",
   "metadata": {},
   "source": [
    "# Prep and EDA"
   ]
  },
  {
   "cell_type": "markdown",
   "id": "d622127c-6da8-4584-9d41-af1f48373d7b",
   "metadata": {},
   "source": [
    "## Prompt\n",
    "Use the dataset below to build a model for a fictive stakeholder or user that you decide. You will present the results from what you built for myself and my colleague, wherein we will discuss around the results and the different steps. We see this as a good way for you to showcase your skills and to have a natural and practical dialogue about data science. We want you to focus on any freetext fields as main data source for the model and put in special focus around the usecase itself, explaining the results and the considerations that went in as part of the analysis. You could either choose from our example below or create your own. You set the ambition level for the assignment yourself.\n",
    "\n",
    "If you have any questions or need any input along the way, don’t hesitate to contact us.\n",
    "\n",
    "Dataset:\n",
    "- https://www.yelp.com/dataset  (Yelp review dataset) (we have looked at the license and you’re allowed to use it for this assignment)\n",
    "\n",
    "Example:\n",
    "- Predict product category using review text? Does it help to also include other fields such as tip or location."
   ]
  },
  {
   "cell_type": "markdown",
   "id": "ae87df05-ee7e-471e-a8f8-67bf58b2d8f5",
   "metadata": {},
   "source": [
    "### Planning\n",
    "#### Steps\n",
    "1) Determine the fictive stakeholers / users and what they may want \n",
    "2) Review the data / EDA\n",
    "3) Determine use cases\n",
    "4) Clean the data\n",
    "5) Feature engineering as necessary for various use cases\n",
    "6) Design / Build models\n",
    "7) Evaluate models\n",
    "\n",
    "#### Goals\n",
    "1) Showcase DS skills\n",
    "2) Have a natural / practical dialogue about DS\n",
    "\n",
    "#### Constraints\n",
    "1) Focus on **any** free text fields as the main data source for the model\n",
    "2) Focus on the usecase, explaining the results and considerations that went into the work"
   ]
  },
  {
   "cell_type": "markdown",
   "id": "51bf1e17-20cc-4e7a-b583-fa5eb9e45b4f",
   "metadata": {},
   "source": [
    "# Data\n",
    "* business.json:\n",
    "  * PrimaryKey: **business_id**\n",
    "  * Contains business data including location data, attributes, and categories.\n",
    "* review.json:\n",
    "  * PrimaryKey: **review_id**\n",
    "  * Contains full review text data including the user_id that wrote the review and the business_id the review is written for.\n",
    "* user.json:\n",
    "  * PrimaryKey: **user_id**\n",
    "  * User data including the user's friend mapping and all the metadata associated with the user.\n",
    "* checkin.json:\n",
    "  * PrimaryKey: **business_id**\n",
    "  * Checkins on a business.\n",
    "* tip.json:\n",
    "  * PrimaryKey: **user_id**, **business_id**, **text**, **date**\n",
    "  * Tips written by a user on a business. Tips are shorter than reviews and tend to convey quick suggestions.\n",
    "* photo.json:\n",
    "  * PrimaryKey: **photo_id**\n",
    "  * Contains photo data including the caption and classification (one of \"food\", \"drink\", \"menu\", \"inside\" or \"outside\").\n",
    " \n",
    "Currently, the metropolitan areas centered on Montreal, Calgary, Toronto, Pittsburgh, Charlotte, Urbana-Champaign, Phoenix, Las Vegas, Madison, and Cleveland, are included in the dataset.\n",
    "\n",
    "[Dataset Documentation](https://www.yelp.com/dataset/documentation/main)"
   ]
  },
  {
   "cell_type": "markdown",
   "id": "0868d9d0-7433-4547-a08c-b09cd6cc55a4",
   "metadata": {},
   "source": [
    "## Scratch ideas\n",
    "1) Remove business with <X reviews\n",
    "2) Only open businesses?\n",
    "3) Start small (e.g. only english in Charlotte)\n",
    "4) Use the text to categorize restaurants (pca visualization) and then recommend new restaurants to users based on current recommendations (or something totally different)\n",
    "5) Review checker -- does review seem correct for business given othe reviews\n",
    "   * Maybe for newer reviewers. Or to flag a review that seems anomalous\n",
    "6) Useful vs. not useful reviews\n",
    "7) Predict category based on review text\n",
    "   * Probabaly easiest, but success is likely moderate given review similarity (e.g. Great service! Very quick!)\n",
    "8) How has user sentiment changed over time for a business?"
   ]
  },
  {
   "cell_type": "code",
   "execution_count": 1,
   "id": "8747e394-f754-49b1-86ce-8f100f446bb2",
   "metadata": {},
   "outputs": [],
   "source": [
    "import pandas as pd\n",
    "from collections import Counter\n",
    "import matplotlib.pyplot as plt\n",
    "from shapely.geometry import Point\n",
    "import geopandas as gpd\n",
    "from geopandas import GeoDataFrame\n",
    "import string\n",
    "pd.set_option('display.max_columns', None)\n",
    "pd.set_option('display.max_rows', 20)"
   ]
  },
  {
   "cell_type": "code",
   "execution_count": 2,
   "id": "c09e976e-c995-4a12-a632-42de5d369a57",
   "metadata": {},
   "outputs": [],
   "source": [
    "first_run = False\n",
    "if first_run:\n",
    "    !python json_to_csv_converter_py3.py yelp_dataset/yelp_academic_dataset_business.json\n",
    "    !python json_to_csv_converter_py3.py yelp_dataset/yelp_academic_dataset_checkin.json\n",
    "    !python json_to_csv_converter_py3.py yelp_dataset/yelp_academic_dataset_review.json\n",
    "    !python json_to_csv_converter_py3.py yelp_dataset/yelp_academic_dataset_tip.json\n",
    "    !python json_to_csv_converter_py3.py yelp_dataset/yelp_academic_dataset_user.json"
   ]
  },
  {
   "cell_type": "code",
   "execution_count": 3,
   "id": "eec610ad-b685-4995-a54d-a42671a53e66",
   "metadata": {},
   "outputs": [],
   "source": [
    "data_import = True\n",
    "if data_import:\n",
    "    business = pd.read_csv(\"yelp_dataset/yelp_academic_dataset_business.csv\", low_memory=False)"
   ]
  },
  {
   "cell_type": "code",
   "execution_count": 4,
   "id": "5c810080-a731-4ade-852e-8680f9a0f4d7",
   "metadata": {
    "scrolled": true
   },
   "outputs": [
    {
     "name": "stdout",
     "output_type": "stream",
     "text": [
      "<class 'pandas.core.frame.DataFrame'>\n",
      "RangeIndex: 150346 entries, 0 to 150345\n",
      "Data columns (total 60 columns):\n",
      " #   Column                                 Non-Null Count   Dtype  \n",
      "---  ------                                 --------------   -----  \n",
      " 0   attributes.BYOB                        4439 non-null    object \n",
      " 1   hours                                  127123 non-null  object \n",
      " 2   state                                  150346 non-null  object \n",
      " 3   hours.Monday                           114474 non-null  object \n",
      " 4   attributes.ByAppointmentOnly           42299 non-null   object \n",
      " 5   name                                   150346 non-null  object \n",
      " 6   attributes.CoatCheck                   5580 non-null    object \n",
      " 7   attributes                             136602 non-null  object \n",
      " 8   attributes.WiFi                        56864 non-null   object \n",
      " 9   attributes.RestaurantsGoodForGroups    44149 non-null   object \n",
      " 10  attributes.RestaurantsTakeOut          57752 non-null   object \n",
      " 11  attributes.HappyHour                   15169 non-null   object \n",
      " 12  attributes.GoodForDancing              4628 non-null    object \n",
      " 13  attributes.BusinessAcceptsBitcoin      17427 non-null   object \n",
      " 14  longitude                              150346 non-null  float64\n",
      " 15  attributes.BusinessParking             88814 non-null   object \n",
      " 16  attributes.WheelchairAccessible        28926 non-null   object \n",
      " 17  review_count                           150346 non-null  int64  \n",
      " 18  is_open                                150346 non-null  int64  \n",
      " 19  attributes.Smoking                     4553 non-null    object \n",
      " 20  attributes.GoodForKids                 53347 non-null   object \n",
      " 21  attributes.RestaurantsCounterService   19 non-null      object \n",
      " 22  attributes.RestaurantsPriceRange2      85280 non-null   float64\n",
      " 23  address                                145219 non-null  object \n",
      " 24  hours.Sunday                           81172 non-null   object \n",
      " 25  city                                   150346 non-null  object \n",
      " 26  hours.Wednesday                        123771 non-null  object \n",
      " 27  hours.Tuesday                          120631 non-null  object \n",
      " 28  hours.Friday                           124999 non-null  object \n",
      " 29  attributes.Alcohol                     43151 non-null   object \n",
      " 30  hours.Thursday                         125198 non-null  object \n",
      " 31  attributes.AcceptsInsurance            5705 non-null    object \n",
      " 32  latitude                               150346 non-null  float64\n",
      " 33  attributes.HairSpecializesIn           1035 non-null    object \n",
      " 34  attributes.HasTV                       45065 non-null   object \n",
      " 35  attributes.NoiseLevel                  37954 non-null   object \n",
      " 36  attributes.BYOBCorkage                 1439 non-null    object \n",
      " 37  attributes.RestaurantsAttire           39217 non-null   object \n",
      " 38  categories                             150243 non-null  object \n",
      " 39  attributes.Ambience                    43728 non-null   object \n",
      " 40  attributes.BikeParking                 72558 non-null   object \n",
      " 41  attributes.BestNights                  5683 non-null    object \n",
      " 42  attributes.GoodForMeal                 28784 non-null   object \n",
      " 43  attributes.Open24Hours                 39 non-null      object \n",
      " 44  attributes.RestaurantsTableService     19967 non-null   object \n",
      " 45  attributes.RestaurantsDelivery         52334 non-null   object \n",
      " 46  attributes.Corkage                     3542 non-null    object \n",
      " 47  hours.Saturday                         110770 non-null  object \n",
      " 48  attributes.RestaurantsReservations     44959 non-null   object \n",
      " 49  attributes.OutdoorSeating              46920 non-null   object \n",
      " 50  attributes.Music                       7486 non-null    object \n",
      " 51  attributes.AgesAllowed                 129 non-null     object \n",
      " 52  attributes.BusinessAcceptsCreditCards  119692 non-null  object \n",
      " 53  stars                                  150346 non-null  float64\n",
      " 54  attributes.DietaryRestrictions         30 non-null      object \n",
      " 55  attributes.DriveThru                   7005 non-null    object \n",
      " 56  attributes.DogsAllowed                 18258 non-null   object \n",
      " 57  postal_code                            150273 non-null  object \n",
      " 58  business_id                            150346 non-null  object \n",
      " 59  attributes.Caters                      40067 non-null   object \n",
      "dtypes: float64(4), int64(2), object(54)\n",
      "memory usage: 68.8+ MB\n"
     ]
    }
   ],
   "source": [
    "business.info()"
   ]
  },
  {
   "cell_type": "code",
   "execution_count": 5,
   "id": "da1c887e-bbab-45eb-af03-fed1ebd0aab1",
   "metadata": {},
   "outputs": [
    {
     "data": {
      "text/html": [
       "<div>\n",
       "<style scoped>\n",
       "    .dataframe tbody tr th:only-of-type {\n",
       "        vertical-align: middle;\n",
       "    }\n",
       "\n",
       "    .dataframe tbody tr th {\n",
       "        vertical-align: top;\n",
       "    }\n",
       "\n",
       "    .dataframe thead th {\n",
       "        text-align: right;\n",
       "    }\n",
       "</style>\n",
       "<table border=\"1\" class=\"dataframe\">\n",
       "  <thead>\n",
       "    <tr style=\"text-align: right;\">\n",
       "      <th></th>\n",
       "      <th>longitude</th>\n",
       "      <th>review_count</th>\n",
       "      <th>is_open</th>\n",
       "      <th>attributes.RestaurantsPriceRange2</th>\n",
       "      <th>latitude</th>\n",
       "      <th>stars</th>\n",
       "    </tr>\n",
       "  </thead>\n",
       "  <tbody>\n",
       "    <tr>\n",
       "      <th>count</th>\n",
       "      <td>150346.000000</td>\n",
       "      <td>150346.000000</td>\n",
       "      <td>150346.00000</td>\n",
       "      <td>85280.000000</td>\n",
       "      <td>150346.000000</td>\n",
       "      <td>150346.000000</td>\n",
       "    </tr>\n",
       "    <tr>\n",
       "      <th>mean</th>\n",
       "      <td>-89.357339</td>\n",
       "      <td>44.866561</td>\n",
       "      <td>0.79615</td>\n",
       "      <td>1.767953</td>\n",
       "      <td>36.671150</td>\n",
       "      <td>3.596724</td>\n",
       "    </tr>\n",
       "    <tr>\n",
       "      <th>std</th>\n",
       "      <td>14.918502</td>\n",
       "      <td>121.120136</td>\n",
       "      <td>0.40286</td>\n",
       "      <td>0.646859</td>\n",
       "      <td>5.872759</td>\n",
       "      <td>0.974421</td>\n",
       "    </tr>\n",
       "    <tr>\n",
       "      <th>min</th>\n",
       "      <td>-120.095137</td>\n",
       "      <td>5.000000</td>\n",
       "      <td>0.00000</td>\n",
       "      <td>1.000000</td>\n",
       "      <td>27.555127</td>\n",
       "      <td>1.000000</td>\n",
       "    </tr>\n",
       "    <tr>\n",
       "      <th>25%</th>\n",
       "      <td>-90.357810</td>\n",
       "      <td>8.000000</td>\n",
       "      <td>1.00000</td>\n",
       "      <td>1.000000</td>\n",
       "      <td>32.187293</td>\n",
       "      <td>3.000000</td>\n",
       "    </tr>\n",
       "    <tr>\n",
       "      <th>50%</th>\n",
       "      <td>-86.121179</td>\n",
       "      <td>15.000000</td>\n",
       "      <td>1.00000</td>\n",
       "      <td>2.000000</td>\n",
       "      <td>38.777413</td>\n",
       "      <td>3.500000</td>\n",
       "    </tr>\n",
       "    <tr>\n",
       "      <th>75%</th>\n",
       "      <td>-75.421542</td>\n",
       "      <td>37.000000</td>\n",
       "      <td>1.00000</td>\n",
       "      <td>2.000000</td>\n",
       "      <td>39.954036</td>\n",
       "      <td>4.500000</td>\n",
       "    </tr>\n",
       "    <tr>\n",
       "      <th>max</th>\n",
       "      <td>-73.200457</td>\n",
       "      <td>7568.000000</td>\n",
       "      <td>1.00000</td>\n",
       "      <td>4.000000</td>\n",
       "      <td>53.679197</td>\n",
       "      <td>5.000000</td>\n",
       "    </tr>\n",
       "  </tbody>\n",
       "</table>\n",
       "</div>"
      ],
      "text/plain": [
       "           longitude   review_count       is_open  \\\n",
       "count  150346.000000  150346.000000  150346.00000   \n",
       "mean      -89.357339      44.866561       0.79615   \n",
       "std        14.918502     121.120136       0.40286   \n",
       "min      -120.095137       5.000000       0.00000   \n",
       "25%       -90.357810       8.000000       1.00000   \n",
       "50%       -86.121179      15.000000       1.00000   \n",
       "75%       -75.421542      37.000000       1.00000   \n",
       "max       -73.200457    7568.000000       1.00000   \n",
       "\n",
       "       attributes.RestaurantsPriceRange2       latitude          stars  \n",
       "count                       85280.000000  150346.000000  150346.000000  \n",
       "mean                            1.767953      36.671150       3.596724  \n",
       "std                             0.646859       5.872759       0.974421  \n",
       "min                             1.000000      27.555127       1.000000  \n",
       "25%                             1.000000      32.187293       3.000000  \n",
       "50%                             2.000000      38.777413       3.500000  \n",
       "75%                             2.000000      39.954036       4.500000  \n",
       "max                             4.000000      53.679197       5.000000  "
      ]
     },
     "execution_count": 5,
     "metadata": {},
     "output_type": "execute_result"
    }
   ],
   "source": [
    "business.describe()"
   ]
  },
  {
   "cell_type": "markdown",
   "id": "3e04d728-6f82-4dbc-9050-d56e62527f6c",
   "metadata": {},
   "source": [
    "# Data cleaning and preprocessing\n",
    "## Business data"
   ]
  },
  {
   "cell_type": "code",
   "execution_count": 6,
   "id": "96bba563-5ced-479f-abfb-4d2b052eec6e",
   "metadata": {},
   "outputs": [
    {
     "data": {
      "text/html": [
       "<div>\n",
       "<style scoped>\n",
       "    .dataframe tbody tr th:only-of-type {\n",
       "        vertical-align: middle;\n",
       "    }\n",
       "\n",
       "    .dataframe tbody tr th {\n",
       "        vertical-align: top;\n",
       "    }\n",
       "\n",
       "    .dataframe thead th {\n",
       "        text-align: right;\n",
       "    }\n",
       "</style>\n",
       "<table border=\"1\" class=\"dataframe\">\n",
       "  <thead>\n",
       "    <tr style=\"text-align: right;\">\n",
       "      <th></th>\n",
       "      <th>attributes.BYOB</th>\n",
       "      <th>hours</th>\n",
       "      <th>state</th>\n",
       "      <th>hours.Monday</th>\n",
       "      <th>attributes.ByAppointmentOnly</th>\n",
       "      <th>name</th>\n",
       "      <th>attributes.CoatCheck</th>\n",
       "      <th>attributes</th>\n",
       "      <th>attributes.WiFi</th>\n",
       "      <th>attributes.RestaurantsGoodForGroups</th>\n",
       "      <th>attributes.RestaurantsTakeOut</th>\n",
       "      <th>attributes.HappyHour</th>\n",
       "      <th>attributes.GoodForDancing</th>\n",
       "      <th>attributes.BusinessAcceptsBitcoin</th>\n",
       "      <th>longitude</th>\n",
       "      <th>attributes.BusinessParking</th>\n",
       "      <th>attributes.WheelchairAccessible</th>\n",
       "      <th>review_count</th>\n",
       "      <th>is_open</th>\n",
       "      <th>attributes.Smoking</th>\n",
       "      <th>attributes.GoodForKids</th>\n",
       "      <th>attributes.RestaurantsCounterService</th>\n",
       "      <th>attributes.RestaurantsPriceRange2</th>\n",
       "      <th>address</th>\n",
       "      <th>hours.Sunday</th>\n",
       "      <th>city</th>\n",
       "      <th>hours.Wednesday</th>\n",
       "      <th>hours.Tuesday</th>\n",
       "      <th>hours.Friday</th>\n",
       "      <th>attributes.Alcohol</th>\n",
       "      <th>hours.Thursday</th>\n",
       "      <th>attributes.AcceptsInsurance</th>\n",
       "      <th>latitude</th>\n",
       "      <th>attributes.HairSpecializesIn</th>\n",
       "      <th>attributes.HasTV</th>\n",
       "      <th>attributes.NoiseLevel</th>\n",
       "      <th>attributes.BYOBCorkage</th>\n",
       "      <th>attributes.RestaurantsAttire</th>\n",
       "      <th>categories</th>\n",
       "      <th>attributes.Ambience</th>\n",
       "      <th>attributes.BikeParking</th>\n",
       "      <th>attributes.BestNights</th>\n",
       "      <th>attributes.GoodForMeal</th>\n",
       "      <th>attributes.Open24Hours</th>\n",
       "      <th>attributes.RestaurantsTableService</th>\n",
       "      <th>attributes.RestaurantsDelivery</th>\n",
       "      <th>attributes.Corkage</th>\n",
       "      <th>hours.Saturday</th>\n",
       "      <th>attributes.RestaurantsReservations</th>\n",
       "      <th>attributes.OutdoorSeating</th>\n",
       "      <th>attributes.Music</th>\n",
       "      <th>attributes.AgesAllowed</th>\n",
       "      <th>attributes.BusinessAcceptsCreditCards</th>\n",
       "      <th>stars</th>\n",
       "      <th>attributes.DietaryRestrictions</th>\n",
       "      <th>attributes.DriveThru</th>\n",
       "      <th>attributes.DogsAllowed</th>\n",
       "      <th>postal_code</th>\n",
       "      <th>business_id</th>\n",
       "      <th>attributes.Caters</th>\n",
       "    </tr>\n",
       "  </thead>\n",
       "  <tbody>\n",
       "    <tr>\n",
       "      <th>0</th>\n",
       "      <td>NaN</td>\n",
       "      <td>NaN</td>\n",
       "      <td>CA</td>\n",
       "      <td>NaN</td>\n",
       "      <td>True</td>\n",
       "      <td>Abby Rappoport, LAC, CMQ</td>\n",
       "      <td>NaN</td>\n",
       "      <td>{'ByAppointmentOnly': 'True'}</td>\n",
       "      <td>NaN</td>\n",
       "      <td>NaN</td>\n",
       "      <td>NaN</td>\n",
       "      <td>NaN</td>\n",
       "      <td>NaN</td>\n",
       "      <td>NaN</td>\n",
       "      <td>-119.711197</td>\n",
       "      <td>NaN</td>\n",
       "      <td>NaN</td>\n",
       "      <td>7</td>\n",
       "      <td>0</td>\n",
       "      <td>NaN</td>\n",
       "      <td>NaN</td>\n",
       "      <td>NaN</td>\n",
       "      <td>NaN</td>\n",
       "      <td>1616 Chapala St, Ste 2</td>\n",
       "      <td>NaN</td>\n",
       "      <td>Santa Barbara</td>\n",
       "      <td>NaN</td>\n",
       "      <td>NaN</td>\n",
       "      <td>NaN</td>\n",
       "      <td>NaN</td>\n",
       "      <td>NaN</td>\n",
       "      <td>NaN</td>\n",
       "      <td>34.426679</td>\n",
       "      <td>NaN</td>\n",
       "      <td>NaN</td>\n",
       "      <td>NaN</td>\n",
       "      <td>NaN</td>\n",
       "      <td>NaN</td>\n",
       "      <td>Doctors, Traditional Chinese Medicine, Naturop...</td>\n",
       "      <td>NaN</td>\n",
       "      <td>NaN</td>\n",
       "      <td>NaN</td>\n",
       "      <td>NaN</td>\n",
       "      <td>NaN</td>\n",
       "      <td>NaN</td>\n",
       "      <td>NaN</td>\n",
       "      <td>NaN</td>\n",
       "      <td>NaN</td>\n",
       "      <td>NaN</td>\n",
       "      <td>NaN</td>\n",
       "      <td>NaN</td>\n",
       "      <td>NaN</td>\n",
       "      <td>NaN</td>\n",
       "      <td>5.0</td>\n",
       "      <td>NaN</td>\n",
       "      <td>NaN</td>\n",
       "      <td>NaN</td>\n",
       "      <td>93101</td>\n",
       "      <td>Pns2l4eNsfO8kk83dixA6A</td>\n",
       "      <td>NaN</td>\n",
       "    </tr>\n",
       "    <tr>\n",
       "      <th>1</th>\n",
       "      <td>NaN</td>\n",
       "      <td>{'Monday': '0:0-0:0', 'Tuesday': '8:0-18:30', ...</td>\n",
       "      <td>MO</td>\n",
       "      <td>0:0-0:0</td>\n",
       "      <td>NaN</td>\n",
       "      <td>The UPS Store</td>\n",
       "      <td>NaN</td>\n",
       "      <td>{'BusinessAcceptsCreditCards': 'True'}</td>\n",
       "      <td>NaN</td>\n",
       "      <td>NaN</td>\n",
       "      <td>NaN</td>\n",
       "      <td>NaN</td>\n",
       "      <td>NaN</td>\n",
       "      <td>NaN</td>\n",
       "      <td>-90.335695</td>\n",
       "      <td>NaN</td>\n",
       "      <td>NaN</td>\n",
       "      <td>15</td>\n",
       "      <td>1</td>\n",
       "      <td>NaN</td>\n",
       "      <td>NaN</td>\n",
       "      <td>NaN</td>\n",
       "      <td>NaN</td>\n",
       "      <td>87 Grasso Plaza Shopping Center</td>\n",
       "      <td>NaN</td>\n",
       "      <td>Affton</td>\n",
       "      <td>8:0-18:30</td>\n",
       "      <td>8:0-18:30</td>\n",
       "      <td>8:0-18:30</td>\n",
       "      <td>NaN</td>\n",
       "      <td>8:0-18:30</td>\n",
       "      <td>NaN</td>\n",
       "      <td>38.551126</td>\n",
       "      <td>NaN</td>\n",
       "      <td>NaN</td>\n",
       "      <td>NaN</td>\n",
       "      <td>NaN</td>\n",
       "      <td>NaN</td>\n",
       "      <td>Shipping Centers, Local Services, Notaries, Ma...</td>\n",
       "      <td>NaN</td>\n",
       "      <td>NaN</td>\n",
       "      <td>NaN</td>\n",
       "      <td>NaN</td>\n",
       "      <td>NaN</td>\n",
       "      <td>NaN</td>\n",
       "      <td>NaN</td>\n",
       "      <td>NaN</td>\n",
       "      <td>8:0-14:0</td>\n",
       "      <td>NaN</td>\n",
       "      <td>NaN</td>\n",
       "      <td>NaN</td>\n",
       "      <td>NaN</td>\n",
       "      <td>True</td>\n",
       "      <td>3.0</td>\n",
       "      <td>NaN</td>\n",
       "      <td>NaN</td>\n",
       "      <td>NaN</td>\n",
       "      <td>63123</td>\n",
       "      <td>mpf3x-BjTdTEA3yCZrAYPw</td>\n",
       "      <td>NaN</td>\n",
       "    </tr>\n",
       "    <tr>\n",
       "      <th>2</th>\n",
       "      <td>NaN</td>\n",
       "      <td>{'Monday': '8:0-22:0', 'Tuesday': '8:0-22:0', ...</td>\n",
       "      <td>AZ</td>\n",
       "      <td>8:0-22:0</td>\n",
       "      <td>False</td>\n",
       "      <td>Target</td>\n",
       "      <td>False</td>\n",
       "      <td>{'BikeParking': 'True', 'BusinessAcceptsCredit...</td>\n",
       "      <td>u'no'</td>\n",
       "      <td>NaN</td>\n",
       "      <td>False</td>\n",
       "      <td>False</td>\n",
       "      <td>NaN</td>\n",
       "      <td>NaN</td>\n",
       "      <td>-110.880452</td>\n",
       "      <td>{'garage': False, 'street': False, 'validated'...</td>\n",
       "      <td>True</td>\n",
       "      <td>22</td>\n",
       "      <td>0</td>\n",
       "      <td>NaN</td>\n",
       "      <td>NaN</td>\n",
       "      <td>NaN</td>\n",
       "      <td>2.0</td>\n",
       "      <td>5255 E Broadway Blvd</td>\n",
       "      <td>8:0-22:0</td>\n",
       "      <td>Tucson</td>\n",
       "      <td>8:0-22:0</td>\n",
       "      <td>8:0-22:0</td>\n",
       "      <td>8:0-23:0</td>\n",
       "      <td>NaN</td>\n",
       "      <td>8:0-22:0</td>\n",
       "      <td>NaN</td>\n",
       "      <td>32.223236</td>\n",
       "      <td>NaN</td>\n",
       "      <td>False</td>\n",
       "      <td>NaN</td>\n",
       "      <td>NaN</td>\n",
       "      <td>NaN</td>\n",
       "      <td>Department Stores, Shopping, Fashion, Home &amp; G...</td>\n",
       "      <td>NaN</td>\n",
       "      <td>True</td>\n",
       "      <td>NaN</td>\n",
       "      <td>NaN</td>\n",
       "      <td>NaN</td>\n",
       "      <td>NaN</td>\n",
       "      <td>False</td>\n",
       "      <td>NaN</td>\n",
       "      <td>8:0-23:0</td>\n",
       "      <td>False</td>\n",
       "      <td>False</td>\n",
       "      <td>NaN</td>\n",
       "      <td>NaN</td>\n",
       "      <td>True</td>\n",
       "      <td>3.5</td>\n",
       "      <td>NaN</td>\n",
       "      <td>NaN</td>\n",
       "      <td>False</td>\n",
       "      <td>85711</td>\n",
       "      <td>tUFrWirKiKi_TAnsVWINQQ</td>\n",
       "      <td>False</td>\n",
       "    </tr>\n",
       "  </tbody>\n",
       "</table>\n",
       "</div>"
      ],
      "text/plain": [
       "  attributes.BYOB                                              hours state  \\\n",
       "0             NaN                                                NaN    CA   \n",
       "1             NaN  {'Monday': '0:0-0:0', 'Tuesday': '8:0-18:30', ...    MO   \n",
       "2             NaN  {'Monday': '8:0-22:0', 'Tuesday': '8:0-22:0', ...    AZ   \n",
       "\n",
       "  hours.Monday attributes.ByAppointmentOnly                      name  \\\n",
       "0          NaN                         True  Abby Rappoport, LAC, CMQ   \n",
       "1      0:0-0:0                          NaN             The UPS Store   \n",
       "2     8:0-22:0                        False                    Target   \n",
       "\n",
       "  attributes.CoatCheck                                         attributes  \\\n",
       "0                  NaN                      {'ByAppointmentOnly': 'True'}   \n",
       "1                  NaN             {'BusinessAcceptsCreditCards': 'True'}   \n",
       "2                False  {'BikeParking': 'True', 'BusinessAcceptsCredit...   \n",
       "\n",
       "  attributes.WiFi attributes.RestaurantsGoodForGroups  \\\n",
       "0             NaN                                 NaN   \n",
       "1             NaN                                 NaN   \n",
       "2           u'no'                                 NaN   \n",
       "\n",
       "  attributes.RestaurantsTakeOut attributes.HappyHour  \\\n",
       "0                           NaN                  NaN   \n",
       "1                           NaN                  NaN   \n",
       "2                         False                False   \n",
       "\n",
       "  attributes.GoodForDancing attributes.BusinessAcceptsBitcoin   longitude  \\\n",
       "0                       NaN                               NaN -119.711197   \n",
       "1                       NaN                               NaN  -90.335695   \n",
       "2                       NaN                               NaN -110.880452   \n",
       "\n",
       "                          attributes.BusinessParking  \\\n",
       "0                                                NaN   \n",
       "1                                                NaN   \n",
       "2  {'garage': False, 'street': False, 'validated'...   \n",
       "\n",
       "  attributes.WheelchairAccessible  review_count  is_open attributes.Smoking  \\\n",
       "0                             NaN             7        0                NaN   \n",
       "1                             NaN            15        1                NaN   \n",
       "2                            True            22        0                NaN   \n",
       "\n",
       "  attributes.GoodForKids attributes.RestaurantsCounterService  \\\n",
       "0                    NaN                                  NaN   \n",
       "1                    NaN                                  NaN   \n",
       "2                    NaN                                  NaN   \n",
       "\n",
       "   attributes.RestaurantsPriceRange2                          address  \\\n",
       "0                                NaN           1616 Chapala St, Ste 2   \n",
       "1                                NaN  87 Grasso Plaza Shopping Center   \n",
       "2                                2.0             5255 E Broadway Blvd   \n",
       "\n",
       "  hours.Sunday           city hours.Wednesday hours.Tuesday hours.Friday  \\\n",
       "0          NaN  Santa Barbara             NaN           NaN          NaN   \n",
       "1          NaN         Affton       8:0-18:30     8:0-18:30    8:0-18:30   \n",
       "2     8:0-22:0         Tucson        8:0-22:0      8:0-22:0     8:0-23:0   \n",
       "\n",
       "  attributes.Alcohol hours.Thursday attributes.AcceptsInsurance   latitude  \\\n",
       "0                NaN            NaN                         NaN  34.426679   \n",
       "1                NaN      8:0-18:30                         NaN  38.551126   \n",
       "2                NaN       8:0-22:0                         NaN  32.223236   \n",
       "\n",
       "  attributes.HairSpecializesIn attributes.HasTV attributes.NoiseLevel  \\\n",
       "0                          NaN              NaN                   NaN   \n",
       "1                          NaN              NaN                   NaN   \n",
       "2                          NaN            False                   NaN   \n",
       "\n",
       "  attributes.BYOBCorkage attributes.RestaurantsAttire  \\\n",
       "0                    NaN                          NaN   \n",
       "1                    NaN                          NaN   \n",
       "2                    NaN                          NaN   \n",
       "\n",
       "                                          categories attributes.Ambience  \\\n",
       "0  Doctors, Traditional Chinese Medicine, Naturop...                 NaN   \n",
       "1  Shipping Centers, Local Services, Notaries, Ma...                 NaN   \n",
       "2  Department Stores, Shopping, Fashion, Home & G...                 NaN   \n",
       "\n",
       "  attributes.BikeParking attributes.BestNights attributes.GoodForMeal  \\\n",
       "0                    NaN                   NaN                    NaN   \n",
       "1                    NaN                   NaN                    NaN   \n",
       "2                   True                   NaN                    NaN   \n",
       "\n",
       "  attributes.Open24Hours attributes.RestaurantsTableService  \\\n",
       "0                    NaN                                NaN   \n",
       "1                    NaN                                NaN   \n",
       "2                    NaN                                NaN   \n",
       "\n",
       "  attributes.RestaurantsDelivery attributes.Corkage hours.Saturday  \\\n",
       "0                            NaN                NaN            NaN   \n",
       "1                            NaN                NaN       8:0-14:0   \n",
       "2                          False                NaN       8:0-23:0   \n",
       "\n",
       "  attributes.RestaurantsReservations attributes.OutdoorSeating  \\\n",
       "0                                NaN                       NaN   \n",
       "1                                NaN                       NaN   \n",
       "2                              False                     False   \n",
       "\n",
       "  attributes.Music attributes.AgesAllowed  \\\n",
       "0              NaN                    NaN   \n",
       "1              NaN                    NaN   \n",
       "2              NaN                    NaN   \n",
       "\n",
       "  attributes.BusinessAcceptsCreditCards  stars attributes.DietaryRestrictions  \\\n",
       "0                                   NaN    5.0                            NaN   \n",
       "1                                  True    3.0                            NaN   \n",
       "2                                  True    3.5                            NaN   \n",
       "\n",
       "  attributes.DriveThru attributes.DogsAllowed postal_code  \\\n",
       "0                  NaN                    NaN       93101   \n",
       "1                  NaN                    NaN       63123   \n",
       "2                  NaN                  False       85711   \n",
       "\n",
       "              business_id attributes.Caters  \n",
       "0  Pns2l4eNsfO8kk83dixA6A               NaN  \n",
       "1  mpf3x-BjTdTEA3yCZrAYPw               NaN  \n",
       "2  tUFrWirKiKi_TAnsVWINQQ             False  "
      ]
     },
     "execution_count": 6,
     "metadata": {},
     "output_type": "execute_result"
    }
   ],
   "source": [
    "business.head(3)"
   ]
  },
  {
   "cell_type": "code",
   "execution_count": 7,
   "id": "d1461a58-ef7f-45ec-8abe-9d8cbc16aebb",
   "metadata": {},
   "outputs": [
    {
     "data": {
      "text/plain": [
       "address\n",
       "160 N Gulph Rd             86\n",
       "51 N 12th St               55\n",
       "1 Terminal Dr              52\n",
       "4100 George J Bean Pkwy    46\n",
       "222 E Market St            42\n",
       "Name: count, dtype: int64"
      ]
     },
     "execution_count": 7,
     "metadata": {},
     "output_type": "execute_result"
    }
   ],
   "source": [
    "# drop duplicates\n",
    "# Note that I spot checked busiensses with the same address -- these appear to not be duplicates but are malls, etc.\n",
    "business.drop_duplicates('business_id', inplace=True)\n",
    "business['address'].value_counts().head()"
   ]
  },
  {
   "cell_type": "code",
   "execution_count": 8,
   "id": "8796d0ea-8b5a-4072-9f67-80009d7cd103",
   "metadata": {},
   "outputs": [],
   "source": [
    "# drop various columns that are not necessary\n",
    "# attributes.BusinessParking: likely not necessary for our purposes. Also messy json with NaNs\n",
    "# attributes.HairSpecializesIn: Same as above\n",
    "# attributes.Open24Hours: Too few values\n",
    "# attributes.AgesAllowed: Too few values\n",
    "# attributes.BusinessAcceptsCreditCards: Irrelevant\n",
    "# attributes.DietaryRestrictions: Too few values\n",
    "biz_columns_to_drop = ['hours', 'attributes', 'attributes.BusinessParking', 'attributes.HairSpecializesIn', 'attributes.RestaurantsAttire', 'attributes.BestNights',\n",
    "                       'attributes.Open24Hours', 'attributes.Music', 'attributes.AgesAllowed', 'attributes.BusinessAcceptsCreditCards', 'attributes.DietaryRestrictions']\n",
    "for column in biz_columns_to_drop:\n",
    "    business.drop(column, inplace=True, axis=1)\n",
    "business.reset_index(inplace=True, drop=True)"
   ]
  },
  {
   "cell_type": "code",
   "execution_count": 9,
   "id": "cf000d73-fe76-4709-8a2e-65a685620804",
   "metadata": {},
   "outputs": [],
   "source": [
    "# Likely not necessary, but updating unicode string import issue leading to leading 'u's\n",
    "unicode_fix_columns = ['attributes.Alcohol', 'attributes.Smoking', 'attributes.NoiseLevel', 'attributes.BYOBCorkage']\n",
    "\n",
    "for column in unicode_fix_columns:\n",
    "    business[column] = business[column].str.lstrip('u').str.strip()\n",
    "\n",
    "# Update names to strip punctuation and lowercase\n",
    "business['name'] = business['name'].str.strip().str.lower().str.translate(str.maketrans('', '', string.punctuation))\n",
    "\n",
    "# Updating corkage to fix duplicate values\n",
    "business['attributes.BYOBCorkage'] = business['attributes.BYOBCorkage'].str.split('_').str[0].value_counts()"
   ]
  },
  {
   "cell_type": "code",
   "execution_count": 10,
   "id": "7a1097e6-aaaa-4443-9254-25d7723f261a",
   "metadata": {},
   "outputs": [
    {
     "name": "stdout",
     "output_type": "stream",
     "text": [
      "150346\n",
      "150346\n",
      "150346\n",
      "150346\n",
      "150346\n",
      "150346\n"
     ]
    }
   ],
   "source": [
    "#Looks like no null values here. Also checked type to confirm\n",
    "print(business['latitude'].shape[0])\n",
    "print(business['longitude'].shape[0])\n",
    "print(business['state'].shape[0])\n",
    "print(business['city'].shape[0])\n",
    "print(business['postal_code'].shape[0])\n",
    "print(business['business_id'].shape[0])"
   ]
  },
  {
   "cell_type": "code",
   "execution_count": 11,
   "id": "b5790bab-e658-4aa9-9281-c02dc13793e5",
   "metadata": {},
   "outputs": [
    {
     "data": {
      "image/png": "[encoded data removed]",
      "text/plain": [
       "<Figure size 1000x300 with 1 Axes>"
      ]
     },
     "metadata": {},
     "output_type": "display_data"
    },
    {
     "name": "stdout",
     "output_type": "stream",
     "text": [
      "count    150346.000000\n",
      "mean         44.866561\n",
      "std         121.120136\n",
      "min           5.000000\n",
      "25%           8.000000\n",
      "50%          15.000000\n",
      "75%          37.000000\n",
      "max        7568.000000\n",
      "Name: review_count, dtype: float64\n"
     ]
    }
   ],
   "source": [
    "#Looks like businesses all have >= 5 reviews with significant outliers\n",
    "fig, ax = plt.subplots(figsize=(10,3))\n",
    "ax.hist(business['review_count'], bins=100)\n",
    "ax.set_ylabel('Number businesses')\n",
    "ax.set_xlabel('Review count (log scale)')\n",
    "fig.tight_layout()\n",
    "plt.show()\n",
    "print(business['review_count'].describe())"
   ]
  },
  {
   "cell_type": "markdown",
   "id": "9616662f-fbaa-4a82-bb98-744fe63a8c3a",
   "metadata": {},
   "source": [
    "### Narrowing scope to restaurants in PA only\n",
    "This is being done to hone in on various POC solutions without working with the entire dataset\n",
    "\n",
    "As shown below, restaurants comprise a large portion of the dataset and PA is the largest geography"
   ]
  },
  {
   "cell_type": "code",
   "execution_count": 12,
   "id": "65f460da-f633-45eb-b5b6-25e49fd56de1",
   "metadata": {
    "scrolled": true
   },
   "outputs": [
    {
     "data": {
      "text/plain": [
       "name\n",
       "mcdonalds        696\n",
       "starbucks        619\n",
       "dunkin           482\n",
       "subway           446\n",
       "taco bell        349\n",
       "wendys           325\n",
       "burger king      322\n",
       "walgreens        310\n",
       "cvs pharmacy     305\n",
       "dominos pizza    289\n",
       "Name: count, dtype: int64"
      ]
     },
     "execution_count": 12,
     "metadata": {},
     "output_type": "execute_result"
    }
   ],
   "source": [
    "# How many businesses are restaurants? We need a good way to figure this out.\n",
    "# assuming that restaurantpricerange is a good proxy for is_restaurant\n",
    "restaurant_test = business[~business['attributes.RestaurantsPriceRange2'].isna()]\n",
    "restaurant_test['name'].value_counts().head(10)"
   ]
  },
  {
   "cell_type": "markdown",
   "id": "03fe3119-8586-4ef8-8507-061990427360",
   "metadata": {},
   "source": [
    "Overall, this looks really messy and includes a number of non-restaurants (e.g. cvs pharmacy, etc.)"
   ]
  },
  {
   "cell_type": "code",
   "execution_count": 13,
   "id": "73a3fbc9-2678-4c95-bc61-d4a3928e94f5",
   "metadata": {},
   "outputs": [],
   "source": [
    "# Categories are listed as a single comma seperated string. Need to break them into a list.\n",
    "# Note that the data isn't very clean so the type is not consistent. Need try/except block to account for this.\n",
    "def split_categories(categories):\n",
    "    try:\n",
    "        output = categories.split(',')\n",
    "        return [x.strip().lower() for x in output]\n",
    "    except:\n",
    "        return \"\"\n",
    "        \n",
    "business['category_split'] = business.apply(lambda row: split_categories(row['categories']), axis=1)"
   ]
  },
  {
   "cell_type": "code",
   "execution_count": 14,
   "id": "11d4680b-1a2c-4a41-9cc2-ba441d3fdd6e",
   "metadata": {},
   "outputs": [
    {
     "data": {
      "text/plain": [
       "category_split\n",
       "restaurants                  52268\n",
       "food                         27781\n",
       "shopping                     24395\n",
       "home services                14356\n",
       "beauty & spas                14292\n",
       "nightlife                    12281\n",
       "health & medical             11890\n",
       "local services               11198\n",
       "bars                         11065\n",
       "automotive                   10773\n",
       "event planning & services     9895\n",
       "sandwiches                    8366\n",
       "american (traditional)        8139\n",
       "active life                   7687\n",
       "pizza                         7093\n",
       "coffee & tea                  6703\n",
       "fast food                     6472\n",
       "breakfast & brunch            6239\n",
       "american (new)                6097\n",
       "hotels & travel               5857\n",
       "Name: count, dtype: int64"
      ]
     },
     "execution_count": 14,
     "metadata": {},
     "output_type": "execute_result"
    }
   ],
   "source": [
    "business['category_split'].explode().value_counts().head(20)"
   ]
  },
  {
   "cell_type": "code",
   "execution_count": 15,
   "id": "be369fd2-603f-48f3-a270-0ac85b48fc76",
   "metadata": {},
   "outputs": [],
   "source": [
    "# Should I filter out fast food? \n",
    "categories_to_check = ['restaurants', 'food', 'bars', 'fast food']\n",
    "business['applicable_categories'] = business['category_split'].apply(lambda x : 1 if any(i in x for i in categories_to_check) else 0)\n",
    "filtered_businesses = business[business['applicable_categories'] == 1]"
   ]
  },
  {
   "cell_type": "code",
   "execution_count": 16,
   "id": "29721161-cbdb-462e-9856-08e57cb8cbe3",
   "metadata": {},
   "outputs": [
    {
     "name": "stdout",
     "output_type": "stream",
     "text": [
      "There are a total of 66770 businesses from an original total of 150346\n"
     ]
    }
   ],
   "source": [
    "print(\"There are a total of {num_remaining} businesses from an original total of {total}\".format(num_remaining = filtered_businesses.shape[0],\n",
    "                                                                                                 total = business.shape[0]))"
   ]
  },
  {
   "cell_type": "code",
   "execution_count": 17,
   "id": "f29db186-b799-4515-a8bf-4ce4ccd82b7e",
   "metadata": {},
   "outputs": [
    {
     "name": "stdout",
     "output_type": "stream",
     "text": [
      "state\n",
      "PA    15826\n",
      "FL    11261\n",
      "TN     5460\n",
      "MO     5283\n",
      "IN     5270\n",
      "LA     4845\n",
      "NJ     4173\n",
      "Name: count, dtype: int64\n"
     ]
    },
    {
     "name": "stderr",
     "output_type": "stream",
     "text": [
      "C:\\Users\\chreddin\\AppData\\Local\\Temp\\ipykernel_31260\\3289857064.py:8: FutureWarning: The geopandas.dataset module is deprecated and will be removed in GeoPandas 1.0. You can get the original 'naturalearth_lowres' data from https://www.naturalearthdata.com/downloads/110m-cultural-vectors/.\n",
      "  world = gpd.read_file(gpd.datasets.get_path('naturalearth_lowres'))\n"
     ]
    },
    {
     "data": {
      "image/png": "[encoded data removed]",
      "text/plain": [
       "<Figure size 800x800 with 1 Axes>"
      ]
     },
     "metadata": {},
     "output_type": "display_data"
    }
   ],
   "source": [
    "# most of these appear to be in PA and FL\n",
    "print(filtered_businesses['state'].value_counts().head(7))\n",
    "\n",
    "# Mapping to confirm \n",
    "lat_lon = filtered_businesses[['longitude', 'latitude']]\n",
    "geometry = gpd.points_from_xy(lat_lon['longitude'], lat_lon['latitude'])\n",
    "gdf = GeoDataFrame(lat_lon, geometry=geometry)   \n",
    "world = gpd.read_file(gpd.datasets.get_path('naturalearth_lowres'))\n",
    "north_america = world[world['continent'] == 'North America']\n",
    "gdf.plot(ax=north_america.plot(figsize=(8, 8)), marker='o', color='red', markersize=5, alpha=0.01);"
   ]
  },
  {
   "cell_type": "code",
   "execution_count": 18,
   "id": "97423e38-a96b-4d16-a43f-578a1257c00c",
   "metadata": {},
   "outputs": [],
   "source": [
    "# Filtering for just restaurants in PA for POC\n",
    "filtered_businesses_PA = filtered_businesses[filtered_businesses['state'] == 'PA']"
   ]
  },
  {
   "cell_type": "code",
   "execution_count": 19,
   "id": "92b4f041-e3c6-480e-9306-ff017537e268",
   "metadata": {},
   "outputs": [
    {
     "name": "stdout",
     "output_type": "stream",
     "text": [
      "There are a total of 15826 businesses from an original total of 150346\n"
     ]
    },
    {
     "name": "stderr",
     "output_type": "stream",
     "text": [
      "C:\\Users\\chreddin\\AppData\\Local\\Temp\\ipykernel_31260\\1502510473.py:8: FutureWarning: The geopandas.dataset module is deprecated and will be removed in GeoPandas 1.0. You can get the original 'naturalearth_lowres' data from https://www.naturalearthdata.com/downloads/110m-cultural-vectors/.\n",
      "  world = gpd.read_file(gpd.datasets.get_path('naturalearth_lowres'))\n"
     ]
    },
    {
     "data": {
      "image/png": "[encoded data removed]",
      "text/plain": [
       "<Figure size 800x800 with 1 Axes>"
      ]
     },
     "metadata": {},
     "output_type": "display_data"
    }
   ],
   "source": [
    "print(\"There are a total of {num_remaining} businesses from an original total of {total}\".format(num_remaining = filtered_businesses_PA.shape[0],\n",
    "                                                                                                 total = business.shape[0]))\n",
    "\n",
    "# Mapping to confirm \n",
    "lat_lon = filtered_businesses_PA[['longitude', 'latitude']]\n",
    "geometry = gpd.points_from_xy(lat_lon['longitude'], lat_lon['latitude'])\n",
    "gdf = GeoDataFrame(lat_lon, geometry=geometry)   \n",
    "world = gpd.read_file(gpd.datasets.get_path('naturalearth_lowres'))\n",
    "north_america = world[world['continent'] == 'North America']\n",
    "gdf.plot(ax=north_america.plot(figsize=(8, 8)), marker='o', color='red', markersize=5, alpha=1);"
   ]
  },
  {
   "cell_type": "markdown",
   "id": "6e8a4d92-d396-430a-9ae0-9fc25f48dbf4",
   "metadata": {},
   "source": [
    "## User review data"
   ]
  },
  {
   "cell_type": "code",
   "execution_count": 20,
   "id": "693c6527-0bf6-495c-a31d-9ede0b91516a",
   "metadata": {},
   "outputs": [],
   "source": [
    "if data_import:\n",
    "    reviews = pd.read_csv(\"yelp_dataset/yelp_academic_dataset_review.csv\")"
   ]
  },
  {
   "cell_type": "code",
   "execution_count": 21,
   "id": "48e6a205-2d4e-41d1-8dfc-ac1571f477f0",
   "metadata": {},
   "outputs": [
    {
     "data": {
      "text/plain": [
       "6990280"
      ]
     },
     "execution_count": 21,
     "metadata": {},
     "output_type": "execute_result"
    }
   ],
   "source": [
    "reviews.shape[0]"
   ]
  },
  {
   "cell_type": "code",
   "execution_count": 22,
   "id": "c1ae95d3-9809-4890-a6f9-6acdc0cd12b6",
   "metadata": {},
   "outputs": [
    {
     "data": {
      "text/html": [
       "<div>\n",
       "<style scoped>\n",
       "    .dataframe tbody tr th:only-of-type {\n",
       "        vertical-align: middle;\n",
       "    }\n",
       "\n",
       "    .dataframe tbody tr th {\n",
       "        vertical-align: top;\n",
       "    }\n",
       "\n",
       "    .dataframe thead th {\n",
       "        text-align: right;\n",
       "    }\n",
       "</style>\n",
       "<table border=\"1\" class=\"dataframe\">\n",
       "  <thead>\n",
       "    <tr style=\"text-align: right;\">\n",
       "      <th></th>\n",
       "      <th>review_id</th>\n",
       "      <th>stars</th>\n",
       "      <th>cool</th>\n",
       "      <th>funny</th>\n",
       "      <th>useful</th>\n",
       "      <th>date</th>\n",
       "      <th>business_id</th>\n",
       "      <th>user_id</th>\n",
       "      <th>text</th>\n",
       "    </tr>\n",
       "  </thead>\n",
       "  <tbody>\n",
       "    <tr>\n",
       "      <th>0</th>\n",
       "      <td>KU_O5udG6zpxOg-VcAEodg</td>\n",
       "      <td>3.0</td>\n",
       "      <td>0</td>\n",
       "      <td>0</td>\n",
       "      <td>0</td>\n",
       "      <td>2018-07-07 22:09:11</td>\n",
       "      <td>XQfwVwDr-v0ZS3_CbbE5Xw</td>\n",
       "      <td>mh_-eMZ6K5RLWhZyISBhwA</td>\n",
       "      <td>If you decide to eat here, just be aware it is...</td>\n",
       "    </tr>\n",
       "    <tr>\n",
       "      <th>1</th>\n",
       "      <td>BiTunyQ73aT9WBnpR9DZGw</td>\n",
       "      <td>5.0</td>\n",
       "      <td>1</td>\n",
       "      <td>0</td>\n",
       "      <td>1</td>\n",
       "      <td>2012-01-03 15:28:18</td>\n",
       "      <td>7ATYjTIgM3jUlt4UM3IypQ</td>\n",
       "      <td>OyoGAe7OKpv6SyGZT5g77Q</td>\n",
       "      <td>I've taken a lot of spin classes over the year...</td>\n",
       "    </tr>\n",
       "    <tr>\n",
       "      <th>2</th>\n",
       "      <td>saUsX_uimxRlCVr67Z4Jig</td>\n",
       "      <td>3.0</td>\n",
       "      <td>0</td>\n",
       "      <td>0</td>\n",
       "      <td>0</td>\n",
       "      <td>2014-02-05 20:30:30</td>\n",
       "      <td>YjUWPpI6HXG530lwP-fb2A</td>\n",
       "      <td>8g_iMtfSiwikVnbP2etR0A</td>\n",
       "      <td>Family diner. Had the buffet. Eclectic assortm...</td>\n",
       "    </tr>\n",
       "    <tr>\n",
       "      <th>3</th>\n",
       "      <td>AqPFMleE6RsU23_auESxiA</td>\n",
       "      <td>5.0</td>\n",
       "      <td>1</td>\n",
       "      <td>0</td>\n",
       "      <td>1</td>\n",
       "      <td>2015-01-04 00:01:03</td>\n",
       "      <td>kxX2SOes4o-D3ZQBkiMRfA</td>\n",
       "      <td>_7bHUi9Uuf5__HHc_Q8guQ</td>\n",
       "      <td>Wow!  Yummy, different,  delicious.   Our favo...</td>\n",
       "    </tr>\n",
       "    <tr>\n",
       "      <th>4</th>\n",
       "      <td>Sx8TMOWLNuJBWer-0pcmoA</td>\n",
       "      <td>4.0</td>\n",
       "      <td>1</td>\n",
       "      <td>0</td>\n",
       "      <td>1</td>\n",
       "      <td>2017-01-14 20:54:15</td>\n",
       "      <td>e4Vwtrqf-wpJfwesgvdgxQ</td>\n",
       "      <td>bcjbaE6dDog4jkNY91ncLQ</td>\n",
       "      <td>Cute interior and owner (?) gave us tour of up...</td>\n",
       "    </tr>\n",
       "  </tbody>\n",
       "</table>\n",
       "</div>"
      ],
      "text/plain": [
       "                review_id  stars  cool  funny  useful                 date  \\\n",
       "0  KU_O5udG6zpxOg-VcAEodg    3.0     0      0       0  2018-07-07 22:09:11   \n",
       "1  BiTunyQ73aT9WBnpR9DZGw    5.0     1      0       1  2012-01-03 15:28:18   \n",
       "2  saUsX_uimxRlCVr67Z4Jig    3.0     0      0       0  2014-02-05 20:30:30   \n",
       "3  AqPFMleE6RsU23_auESxiA    5.0     1      0       1  2015-01-04 00:01:03   \n",
       "4  Sx8TMOWLNuJBWer-0pcmoA    4.0     1      0       1  2017-01-14 20:54:15   \n",
       "\n",
       "              business_id                 user_id  \\\n",
       "0  XQfwVwDr-v0ZS3_CbbE5Xw  mh_-eMZ6K5RLWhZyISBhwA   \n",
       "1  7ATYjTIgM3jUlt4UM3IypQ  OyoGAe7OKpv6SyGZT5g77Q   \n",
       "2  YjUWPpI6HXG530lwP-fb2A  8g_iMtfSiwikVnbP2etR0A   \n",
       "3  kxX2SOes4o-D3ZQBkiMRfA  _7bHUi9Uuf5__HHc_Q8guQ   \n",
       "4  e4Vwtrqf-wpJfwesgvdgxQ  bcjbaE6dDog4jkNY91ncLQ   \n",
       "\n",
       "                                                text  \n",
       "0  If you decide to eat here, just be aware it is...  \n",
       "1  I've taken a lot of spin classes over the year...  \n",
       "2  Family diner. Had the buffet. Eclectic assortm...  \n",
       "3  Wow!  Yummy, different,  delicious.   Our favo...  \n",
       "4  Cute interior and owner (?) gave us tour of up...  "
      ]
     },
     "execution_count": 22,
     "metadata": {},
     "output_type": "execute_result"
    }
   ],
   "source": [
    "reviews.head()"
   ]
  },
  {
   "cell_type": "code",
   "execution_count": 23,
   "id": "465d0f6c-d712-42ed-b735-b857d99d13e0",
   "metadata": {},
   "outputs": [],
   "source": [
    "filtered_reviews = reviews[reviews['business_id'].isin(filtered_businesses_PA['business_id'])].copy()"
   ]
  },
  {
   "cell_type": "code",
   "execution_count": 24,
   "id": "22e6799e-9c52-4b31-b940-234bba390302",
   "metadata": {},
   "outputs": [],
   "source": [
    "# drop duplicates\n",
    "filtered_reviews.drop_duplicates('review_id', inplace=True)\n",
    "# Removing any additional duplicate reviews from same user with same text and business\n",
    "filtered_reviews.drop_duplicates(['business_id', 'user_id', 'text'], inplace=True)\n",
    "# filtered_reviews.reset_index(drop=True, inplace=True)\n",
    "# Cleaning up text field\n",
    "filtered_reviews['text'] = filtered_reviews['text'].str.lstrip('u').str.strip().str.lower().str.translate(str.maketrans('-', ' ', string.punctuation))\n",
    "# Removing escaped characters that show up literally\n",
    "filtered_reviews['text'] = filtered_reviews['text'].str.translate(str.maketrans(dict([(chr(char), ' ') for char in range(1, 32)])))\n",
    "# Removing >1 whitespace chars\n",
    "def clean_whitespace(text):\n",
    "    return ' '.join(text.split())\n",
    "filtered_reviews['text'] = filtered_reviews.apply(lambda row: clean_whitespace(row['text']), axis=1)\n",
    "# Dropping few reviews that are NaN\n",
    "filtered_reviews = filtered_reviews[~filtered_reviews['text'].isna()]"
   ]
  },
  {
   "cell_type": "code",
   "execution_count": 25,
   "id": "f5f6b1be-7a42-4b9d-bff9-0b76be7925fd",
   "metadata": {},
   "outputs": [
    {
     "data": {
      "text/plain": [
       "0          if you decide to eat here just be aware it is ...\n",
       "3          wow yummy different delicious our favorite is ...\n",
       "5          i am a long term frequent customer of this est...\n",
       "7          amazingly amazing wings and homemade bleu chee...\n",
       "13         good foodloved the gnocchi with marinara the b...\n",
       "                                 ...                        \n",
       "6990255    i was so excited about all the food i saw but ...\n",
       "6990260    later yelp ive only been here once but i love ...\n",
       "6990265    ice cream ice cream sodas sundaes wanted to sh...\n",
       "6990269    this is a good pizza option they deliver throu...\n",
       "6990272    it is very rare for a restaurant to be this go...\n",
       "Name: text, Length: 1203383, dtype: object"
      ]
     },
     "execution_count": 25,
     "metadata": {},
     "output_type": "execute_result"
    }
   ],
   "source": [
    "# Looking nice and clean!\n",
    "filtered_reviews['text']"
   ]
  },
  {
   "cell_type": "code",
   "execution_count": 26,
   "id": "52a448f0-7daa-4560-93b5-e7b8fc5cf966",
   "metadata": {},
   "outputs": [
    {
     "data": {
      "text/plain": [
       "1203383"
      ]
     },
     "execution_count": 26,
     "metadata": {},
     "output_type": "execute_result"
    }
   ],
   "source": [
    "filtered_reviews.shape[0]"
   ]
  },
  {
   "cell_type": "code",
   "execution_count": 27,
   "id": "4b6fd490-0643-4ac7-bb34-23340e264d0e",
   "metadata": {},
   "outputs": [],
   "source": [
    "#Looking into review length\n",
    "def num_review_words(text):\n",
    "    return len(text.split(' '))\n",
    "filtered_reviews['review_words'] = filtered_reviews.apply(lambda row: num_review_words(row['text']), axis=1)"
   ]
  },
  {
   "cell_type": "code",
   "execution_count": 28,
   "id": "36dd5e70-1c0f-4668-9399-a0cef8b37bf6",
   "metadata": {},
   "outputs": [
    {
     "data": {
      "image/png": "[encoded data removed]",
      "text/plain": [
       "<Figure size 1000x300 with 1 Axes>"
      ]
     },
     "metadata": {},
     "output_type": "display_data"
    }
   ],
   "source": [
    "fig, ax = plt.subplots(figsize=(10, 3))\n",
    "ax.hist(filtered_reviews['review_words'], bins=100)\n",
    "plt.axvline(x=filtered_reviews['review_words'].mean(), \n",
    "            color = 'red', \n",
    "            linestyle = '--', \n",
    "            label='Mean {}'.format(round(filtered_reviews['review_words'].mean(), 2)))\n",
    "plt.axvline(x=filtered_reviews['review_words'].median(), \n",
    "            color = 'red', \n",
    "            linestyle = '-', \n",
    "            label='Median {}'.format(round(filtered_reviews['review_words'].median(), 2)))\n",
    "plt.axvline(x= filtered_reviews['review_words'].mean() - filtered_reviews['review_words'].std(), \n",
    "            color = 'teal', \n",
    "            linestyle = ':')\n",
    "plt.axvline(x= filtered_reviews['review_words'].mean() + filtered_reviews['review_words'].std(), \n",
    "            color = 'teal', \n",
    "            linestyle = ':', \n",
    "            label='Std {}'.format(round(filtered_reviews['review_words'].std(), 2)))\n",
    "# ax.set_yscale('log')\n",
    "ax.set_xlabel('Number of words in review')\n",
    "ax.set_ylabel('Number of reviews')\n",
    "ax.set_title('Words per review')\n",
    "plt.legend()\n",
    "plt.show()"
   ]
  },
  {
   "cell_type": "code",
   "execution_count": 29,
   "id": "9bda2b40-9a7b-4b7c-9775-6e6c6e0c8d6f",
   "metadata": {},
   "outputs": [
    {
     "name": "stdout",
     "output_type": "stream",
     "text": [
      "['great weekday buffet mattar paneer was off the hook'\n",
      " 'best pizza on lower main line great friendly staff'\n",
      " 'they have good nonpariel cookies'\n",
      " 'love the vegetarian burger the desserts are alright'\n",
      " 'overpriced and completely overwhelming dont bother'\n",
      " 'pretty good cajun options in the middle of philadelphia'\n",
      " 'good authentic mexican foodcant go wrong here'\n",
      " 'best bagels in the greater philadelphia area'\n",
      " 'ridiculous prices for small portionslittle meatmostly rice'\n",
      " 'beautiful venue good music and great people']\n",
      "['the only reason i didnt give this restaurant a 5 star rating is because of one single pretentious waiter as a 4 night guest at hotel palomar the location of the restaurant is an obvious plus the first night of my stay i met a coworker in the restaurant for a cocktail when we arrived the host staff were busy and not available so we just walked in the restaurant was not too busy so we just looked at a small table next to the bar and proceeded to take a seat a waiter came by and i quickly asked if we could have a seat before sitting down and told him wed only be having cocktails he stumbled on his reply and in an irritatedinconvinced tone told me i guess it would be fine and basically just kept walking mid sentence my guest and i brushed it off and started having a conversation while looking at the drink menu to make a long story short he was distant and we both got the couldnt be bothered vibe from him when it came to the bill we asked if it could be split due to company transaction policies and you would have thought asked him for some inconceivable task we basically spent the rest of our night and elevator ride to our room in shock of the rudeness we had just experienced although that situation left a bad taste in our mouth and the night before we decided to avoid the restaurant we decided to grab another cocktail and give this place one more try after looking around and ensuring last nights waiter wasnt on shift we walked over to the bar and started looking over the menu instantly the bartender greeted us with pleasant small talk and made us feel 100 welcome he asked about our day recommended cocktails and was a completely genuine person this guy i think his name was ben is an absolute star he gave us lessons on whiskey described how to make classic cocktails and was 100 invested in our experience this is exactly what a bartender at a 45 star establishment should be actually he exceeds that he was kind funny friendly and completely redeemed this restaurantbar from our terrible experience the night before i also ordered room service last night from this restaurant and it was amazing the bacon wrapped dates and chocolate cake are to die for great restaurant and amazing bartenders too bad one bad egg could have spoiled this experience'\n",
      " 'im giving this joint 4 stars because they have earned it but they are definitely 5 star material if they work out a few kinks granted they just opened so some of the errors ive experienced i work in the area so ive been there several times will probably get worked out and they are more than willing to make corrections and accommodations when they mess up but over all the food is really good unlike my fellow yelpers i would say that ther pizza is not their strong suit its kinds greasy and not sure if they use 100 mozzarella tastes like its cut with something cheaper however so far ive had the quaker chicken version delicious they make their chicken steaks with the chunky chicken which i like much more than the shredded version they could season the chicken more but the cheese was melted perfectly and the veggies were fresh the fries crisp and flavorful i didnt even need ketchup and i always eat ketchup on my fries the onion rings a little greasy but very tasty and crisp the onions stayed in the breading and didnt slide out when you bit them which i hate spanakopita mine was a little over cooked but the flavors were really good baklava very good signature salad the veggies they use are very fresh which will make or break a salad their balsamic is great too the turkey greek burger one of the best turkey burgers ive ever had the patty was moist and flavorful all on its own but then they top it with what must be homemade tzatziki i could eat a bowl of that stuff my burger had romaine instead of the advertised arugula but it was very fresh so i didnt mind as much i also asked for feta which i didnt get but that sauce made me forget all about it overall this place is great provided they dont stray from the high quality standard they are setting i will keep going back'\n",
      " 'went here based on the high ratings and raves from people the entire experience was underwhelming from start to finish their website which is fairly useless if you want to figure out the menu before going you have to pick your location choice out of 3 locations and then drill down to the bottom to see the weak descriptions of their menu offering no explanations and no price just this roast beef roast beef combo roast pork roast pork combo baked ham baked ham combo roast turkey roast turkey combo broccoli rabe broccoli rabe combo no explanation of whats in a combo its just where they add cheese by the way the table placecard instead of menu had a more detailed description than the website when i walked in its more bar than restaurant no big deal but there were tables since i couldnt decide and the sandwiches werent too expensive at 685 i got the roast beef and roast port combos i got my two sandwiches fast enough but the roast beef was cold and the roast pork was hot not sure how a cook for lack of a better word could serve 2 things at the same time with such a temperature differential one was obviously sitting for awhile i asked the waitress to reheat the roast beef while i finished the roast pork and supposedly it was reheated since it was warmer but it was still coldish compared to my roast pork i had just finished the waitress did offer to replace it when she inquired but i was in a hurry and didnt really care for a hot version of this sandwich the sandwiches were very skimpy on meat but they made up for it by adding too much gravy to make it overly messy and the bread was disintegrating the menu place card mentions the wet meat option where you get less gravy i strongly recommend you get it that style especially if the gravy overpower the meat and structural integrity of the sandwich']\n"
     ]
    }
   ],
   "source": [
    "# A quick check shows that the reviews look pretty good\n",
    "print(filtered_reviews[filtered_reviews['review_words'] < 10]['text'].head(10).values)\n",
    "print(filtered_reviews[filtered_reviews['review_words'] > 300]['text'].head(3).values)"
   ]
  },
  {
   "cell_type": "code",
   "execution_count": 30,
   "id": "a7cd55ae-a389-4dd0-a638-5df940f46c62",
   "metadata": {},
   "outputs": [
    {
     "data": {
      "image/png": "[encoded data removed]",
      "text/plain": [
       "<Figure size 1000x500 with 2 Axes>"
      ]
     },
     "metadata": {},
     "output_type": "display_data"
    }
   ],
   "source": [
    "# Looking at distribution of reviews by person\n",
    "fig, axs = plt.subplots(2, 1, figsize=(10,5))\n",
    "reviews_by_user = filtered_reviews['user_id'].value_counts()\n",
    "reviews_by_business = filtered_reviews['business_id'].value_counts()\n",
    "axs[0].hist(reviews_by_user, bins=1000)\n",
    "axs[0].axvline(x=reviews_by_user.mean(), \n",
    "            color = 'red', \n",
    "            linestyle = '--',\n",
    "            label='Mean {}'.format(round(reviews_by_user.median(), 2)))\n",
    "axs[0].legend()\n",
    "axs[0].set_yscale('log')\n",
    "axs[0].set_ylabel('Number reviews (log scale)')\n",
    "axs[0].set_xlabel('User count')\n",
    "\n",
    "axs[1].hist(reviews_by_business, bins=1000)\n",
    "axs[1].axvline(x=reviews_by_business.mean(), \n",
    "            color = 'red', \n",
    "            linestyle = '--',\n",
    "            label='Mean {}'.format(round(reviews_by_business.mean(), 2)))\n",
    "axs[1].legend()\n",
    "axs[1].set_yscale('log')\n",
    "axs[1].set_ylabel('Number reviews (log scale)')\n",
    "axs[1].set_xlabel('Business count')\n",
    "axs[1].set_title('Number reviews per business')\n",
    "fig.tight_layout()\n",
    "plt.show()"
   ]
  },
  {
   "cell_type": "markdown",
   "id": "658a5136-30f3-4e7e-880b-684e383793e6",
   "metadata": {},
   "source": [
    "What do we do with this information then? Should we treat power users, or popular businesses differently than the rest of the population. I'm thinking that likely not. We may want some filtering around the minimum number of reviews that a user or business should have (stretch: use a data-driven approach here) before we make a recommendation."
   ]
  },
  {
   "cell_type": "code",
   "execution_count": 31,
   "id": "8ffa006a-9c86-4ea9-905a-7c245e082827",
   "metadata": {},
   "outputs": [
    {
     "data": {
      "text/plain": [
       "stars\n",
       "5.0    486877\n",
       "4.0    314697\n",
       "3.0    151719\n",
       "1.0    141409\n",
       "2.0    108681\n",
       "Name: count, dtype: int64"
      ]
     },
     "execution_count": 31,
     "metadata": {},
     "output_type": "execute_result"
    }
   ],
   "source": [
    "filtered_reviews['stars'].value_counts()"
   ]
  },
  {
   "cell_type": "code",
   "execution_count": 32,
   "id": "45cf5b20-4e74-4c66-b6c1-73f832f4045f",
   "metadata": {},
   "outputs": [
    {
     "data": {
      "image/png": "[encoded data removed]",
      "text/plain": [
       "<Figure size 1000x300 with 1 Axes>"
      ]
     },
     "metadata": {},
     "output_type": "display_data"
    }
   ],
   "source": [
    "# Looking into the distribution of star ratings among reviews\n",
    "fig, ax = plt.subplots(figsize=(10, 3))\n",
    "\n",
    "ax.bar(x = filtered_reviews['stars'].value_counts().index, \n",
    "       height = filtered_reviews['stars'].value_counts().values, \n",
    "       align='center')\n",
    "\n",
    "ax.axvline(x=filtered_reviews['stars'].mean(), \n",
    "            color = 'red', \n",
    "            linestyle = '--',\n",
    "            label='Mean {mean}'.format(mean = round(filtered_reviews['stars'].mean(), 2)))\n",
    "ax.set_ylabel('Number reviews')\n",
    "ax.set_xlabel('Star rating')\n",
    "ax.set_title('Review star ratings')\n",
    "ax.legend()\n",
    "plt.show()"
   ]
  },
  {
   "cell_type": "markdown",
   "id": "7afd5b32-1613-4dd6-8b08-3eaf0284cdb4",
   "metadata": {},
   "source": [
    "Star reviews skew towards 5 stars and one stars, but mid values (2-4) are the majority. For the purpose of recommendation we could consider 4 & 5 stars as \"good reviews\" and everything below that as \"bad\". As a stretch goal, we could make this scalable (i.e. A 5-star review counts for more than a 4-star review, etc.)"
   ]
  },
  {
   "cell_type": "markdown",
   "id": "940fd80f-9e66-48de-b65f-426f251bce4b",
   "metadata": {},
   "source": [
    "Ok -- I think that we're at a spot now where we have the data cleaned up enough to start doing some modeling on the text."
   ]
  },
  {
   "cell_type": "code",
   "execution_count": 33,
   "id": "8b8ebb00-0129-413c-a69b-b45d4900ee6d",
   "metadata": {},
   "outputs": [
    {
     "data": {
      "text/plain": [
       "1203383"
      ]
     },
     "execution_count": 33,
     "metadata": {},
     "output_type": "execute_result"
    }
   ],
   "source": [
    "filtered_reviews.shape[0]"
   ]
  },
  {
   "cell_type": "markdown",
   "id": "3bc8f71c-f52f-416a-a471-06aafaa43253",
   "metadata": {},
   "source": [
    "## Outputting the filtered down datasets for use in other notebooks"
   ]
  },
  {
   "cell_type": "code",
   "execution_count": 34,
   "id": "54cc017d-9e21-4b49-9e11-0d6bc1098224",
   "metadata": {},
   "outputs": [],
   "source": [
    "filtered_reviews.to_csv('yelp_dataset/filtered_reviews_PA.tsv', sep='\\t')\n",
    "filtered_businesses_PA.to_csv('yelp_dataset/filtered_business_PA.tsv', sep='\\t')"
   ]
  }
 ],
 "metadata": {
  "kernelspec": {
   "display_name": "Python 3 (ipykernel)",
   "language": "python",
   "name": "python3"
  },
  "language_info": {
   "codemirror_mode": {
    "name": "ipython",
    "version": 3
   },
   "file_extension": ".py",
   "mimetype": "text/x-python",
   "name": "python",
   "nbconvert_exporter": "python",
   "pygments_lexer": "ipython3",
   "version": "3.12.0"
  }
 },
 "nbformat": 4,
 "nbformat_minor": 5
}
